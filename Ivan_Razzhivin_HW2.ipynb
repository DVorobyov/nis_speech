{
 "cells": [
  {
   "cell_type": "code",
   "execution_count": 1,
   "metadata": {
    "colab": {
     "base_uri": "https://localhost:8080/",
     "height": 1000
    },
    "id": "cj0ioCNMfB99",
    "outputId": "f1b6a861-c50e-4951-c378-b66d50e8ca69"
   },
   "outputs": [
    {
     "name": "stdout",
     "output_type": "stream",
     "text": [
      "Requirement already satisfied: wget in /usr/local/lib/python3.7/dist-packages (3.2)\n",
      "Reading package lists... Done\n",
      "Building dependency tree       \n",
      "Reading state information... Done\n",
      "libsndfile1 is already the newest version (1.0.28-4ubuntu0.18.04.2).\n",
      "ffmpeg is already the newest version (7:3.4.8-0ubuntu0.2).\n",
      "sox is already the newest version (14.4.2-3ubuntu0.18.04.1).\n",
      "0 upgraded, 0 newly installed, 0 to remove and 37 not upgraded.\n",
      "Requirement already satisfied: unidecode in /usr/local/lib/python3.7/dist-packages (1.3.2)\n",
      "Requirement already satisfied: nemo_toolkit[all] in /usr/local/lib/python3.7/dist-packages (1.5.0)\n",
      "Requirement already satisfied: onnx>=1.7.0 in /usr/local/lib/python3.7/dist-packages (from nemo_toolkit[all]) (1.10.2)\n",
      "Requirement already satisfied: torch in /usr/local/lib/python3.7/dist-packages (from nemo_toolkit[all]) (1.10.0+cu111)\n",
      "Requirement already satisfied: wrapt in /usr/local/lib/python3.7/dist-packages (from nemo_toolkit[all]) (1.13.3)\n",
      "Requirement already satisfied: numpy>=1.18.2 in /usr/local/lib/python3.7/dist-packages (from nemo_toolkit[all]) (1.19.5)\n",
      "Requirement already satisfied: tqdm>=4.41.0 in /usr/local/lib/python3.7/dist-packages (from nemo_toolkit[all]) (4.62.3)\n",
      "Requirement already satisfied: ruamel.yaml in /usr/local/lib/python3.7/dist-packages (from nemo_toolkit[all]) (0.17.17)\n",
      "Requirement already satisfied: unidecode in /usr/local/lib/python3.7/dist-packages (from nemo_toolkit[all]) (1.3.2)\n",
      "Requirement already satisfied: numba in /usr/local/lib/python3.7/dist-packages (from nemo_toolkit[all]) (0.51.2)\n",
      "Requirement already satisfied: wget in /usr/local/lib/python3.7/dist-packages (from nemo_toolkit[all]) (3.2)\n",
      "Requirement already satisfied: frozendict in /usr/local/lib/python3.7/dist-packages (from nemo_toolkit[all]) (2.1.1)\n",
      "Requirement already satisfied: python-dateutil in /usr/local/lib/python3.7/dist-packages (from nemo_toolkit[all]) (2.8.2)\n",
      "Requirement already satisfied: sentencepiece<1.0.0 in /usr/local/lib/python3.7/dist-packages (from nemo_toolkit[all]) (0.1.96)\n",
      "Requirement already satisfied: scikit-learn in /usr/local/lib/python3.7/dist-packages (from nemo_toolkit[all]) (1.0.1)\n",
      "Requirement already satisfied: kaldi-io in /usr/local/lib/python3.7/dist-packages (from nemo_toolkit[all]) (0.9.4)\n",
      "Requirement already satisfied: jieba in /usr/local/lib/python3.7/dist-packages (from nemo_toolkit[all]) (0.42.1)\n",
      "Requirement already satisfied: webdataset<=0.1.62,>=0.1.48 in /usr/local/lib/python3.7/dist-packages (from nemo_toolkit[all]) (0.1.62)\n",
      "Requirement already satisfied: opencc in /usr/local/lib/python3.7/dist-packages (from nemo_toolkit[all]) (1.1.3)\n",
      "Requirement already satisfied: sox in /usr/local/lib/python3.7/dist-packages (from nemo_toolkit[all]) (1.4.1)\n",
      "Requirement already satisfied: sacremoses>=0.0.43 in /usr/local/lib/python3.7/dist-packages (from nemo_toolkit[all]) (0.0.46)\n",
      "Requirement already satisfied: packaging in /usr/local/lib/python3.7/dist-packages (from nemo_toolkit[all]) (21.3)\n",
      "Requirement already satisfied: soundfile in /usr/local/lib/python3.7/dist-packages (from nemo_toolkit[all]) (0.10.3.post1)\n",
      "Requirement already satisfied: regex in /usr/local/lib/python3.7/dist-packages (from nemo_toolkit[all]) (2019.12.20)\n",
      "Collecting nltk>=3.6.5\n",
      "  Using cached nltk-3.6.5-py3-none-any.whl (1.5 MB)\n",
      "Requirement already satisfied: editdistance in /usr/local/lib/python3.7/dist-packages (from nemo_toolkit[all]) (0.5.3)\n",
      "Requirement already satisfied: h5py in /usr/local/lib/python3.7/dist-packages (from nemo_toolkit[all]) (3.1.0)\n",
      "Requirement already satisfied: isort[requirements]<5 in /usr/local/lib/python3.7/dist-packages (from nemo_toolkit[all]) (4.3.21)\n",
      "Requirement already satisfied: sphinxcontrib-bibtex in /usr/local/lib/python3.7/dist-packages (from nemo_toolkit[all]) (2.4.1)\n",
      "Requirement already satisfied: pytest-runner in /usr/local/lib/python3.7/dist-packages (from nemo_toolkit[all]) (5.3.1)\n",
      "Requirement already satisfied: pystoi in /usr/local/lib/python3.7/dist-packages (from nemo_toolkit[all]) (0.3.3)\n",
      "Requirement already satisfied: sacrebleu[ja] in /usr/local/lib/python3.7/dist-packages (from nemo_toolkit[all]) (2.0.0)\n",
      "Requirement already satisfied: rapidfuzz in /usr/local/lib/python3.7/dist-packages (from nemo_toolkit[all]) (1.8.3)\n",
      "Requirement already satisfied: pangu in /usr/local/lib/python3.7/dist-packages (from nemo_toolkit[all]) (4.0.6.1)\n",
      "Requirement already satisfied: pytorch-lightning>=1.5.0 in /usr/local/lib/python3.7/dist-packages (from nemo_toolkit[all]) (1.5.3)\n",
      "Requirement already satisfied: inflect in /usr/local/lib/python3.7/dist-packages (from nemo_toolkit[all]) (2.1.0)\n",
      "Requirement already satisfied: scipy in /usr/local/lib/python3.7/dist-packages (from nemo_toolkit[all]) (1.4.1)\n",
      "Requirement already satisfied: boto3 in /usr/local/lib/python3.7/dist-packages (from nemo_toolkit[all]) (1.20.16)\n",
      "Requirement already satisfied: fasttext in /usr/local/lib/python3.7/dist-packages (from nemo_toolkit[all]) (0.9.2)\n",
      "Requirement already satisfied: pypinyin in /usr/local/lib/python3.7/dist-packages (from nemo_toolkit[all]) (0.44.0)\n",
      "Requirement already satisfied: hydra-core>=1.1.0 in /usr/local/lib/python3.7/dist-packages (from nemo_toolkit[all]) (1.1.1)\n",
      "Requirement already satisfied: kaldi-python-io in /usr/local/lib/python3.7/dist-packages (from nemo_toolkit[all]) (1.2.2)\n",
      "Requirement already satisfied: nltk in /usr/local/lib/python3.7/dist-packages (from nemo_toolkit[all]) (3.2.5)\n",
      "Requirement already satisfied: ipywidgets in /usr/local/lib/python3.7/dist-packages (from nemo_toolkit[all]) (7.6.5)\n",
      "Requirement already satisfied: braceexpand in /usr/local/lib/python3.7/dist-packages (from nemo_toolkit[all]) (0.1.7)\n",
      "Requirement already satisfied: pyyaml<6 in /usr/local/lib/python3.7/dist-packages (from nemo_toolkit[all]) (5.4.1)\n",
      "Requirement already satisfied: pesq in /usr/local/lib/python3.7/dist-packages (from nemo_toolkit[all]) (0.0.3)\n",
      "Requirement already satisfied: pyannote.core in /usr/local/lib/python3.7/dist-packages (from nemo_toolkit[all]) (4.3)\n",
      "Requirement already satisfied: torchvision in /usr/local/lib/python3.7/dist-packages (from nemo_toolkit[all]) (0.11.1+cu111)\n",
      "Requirement already satisfied: gdown in /usr/local/lib/python3.7/dist-packages (from nemo_toolkit[all]) (3.6.4)\n",
      "Requirement already satisfied: sphinx in /usr/local/lib/python3.7/dist-packages (from nemo_toolkit[all]) (4.3.1)\n",
      "Requirement already satisfied: matplotlib in /usr/local/lib/python3.7/dist-packages (from nemo_toolkit[all]) (3.2.2)\n",
      "Requirement already satisfied: pillow in /usr/local/lib/python3.7/dist-packages (from nemo_toolkit[all]) (7.1.2)\n",
      "Requirement already satisfied: g2p-en in /usr/local/lib/python3.7/dist-packages (from nemo_toolkit[all]) (2.1.0)\n",
      "Requirement already satisfied: torch-stft in /usr/local/lib/python3.7/dist-packages (from nemo_toolkit[all]) (0.1.4)\n",
      "Collecting matplotlib>=3.3.2\n",
      "  Using cached matplotlib-3.5.0-cp37-cp37m-manylinux_2_5_x86_64.manylinux1_x86_64.whl (11.2 MB)\n",
      "Requirement already satisfied: wandb in /usr/local/lib/python3.7/dist-packages (from nemo_toolkit[all]) (0.12.7)\n",
      "Requirement already satisfied: marshmallow in /usr/local/lib/python3.7/dist-packages (from nemo_toolkit[all]) (3.14.1)\n",
      "Requirement already satisfied: wordninja==2.0.0 in /usr/local/lib/python3.7/dist-packages (from nemo_toolkit[all]) (2.0.0)\n",
      "Requirement already satisfied: pydub in /usr/local/lib/python3.7/dist-packages (from nemo_toolkit[all]) (0.25.1)\n",
      "Requirement already satisfied: black==19.10b0 in /usr/local/lib/python3.7/dist-packages (from nemo_toolkit[all]) (19.10b0)\n",
      "Requirement already satisfied: librosa in /usr/local/lib/python3.7/dist-packages (from nemo_toolkit[all]) (0.8.1)\n",
      "Requirement already satisfied: pandas in /usr/local/lib/python3.7/dist-packages (from nemo_toolkit[all]) (1.1.5)\n",
      "Requirement already satisfied: youtokentome>=1.0.5 in /usr/local/lib/python3.7/dist-packages (from nemo_toolkit[all]) (1.0.6)\n",
      "Requirement already satisfied: parameterized in /usr/local/lib/python3.7/dist-packages (from nemo_toolkit[all]) (0.8.1)\n",
      "Requirement already satisfied: pytest in /usr/local/lib/python3.7/dist-packages (from nemo_toolkit[all]) (3.6.4)\n",
      "Requirement already satisfied: pyannote.metrics in /usr/local/lib/python3.7/dist-packages (from nemo_toolkit[all]) (3.1)\n",
      "Requirement already satisfied: omegaconf>=2.1.0 in /usr/local/lib/python3.7/dist-packages (from nemo_toolkit[all]) (2.1.1)\n",
      "Requirement already satisfied: attrdict in /usr/local/lib/python3.7/dist-packages (from nemo_toolkit[all]) (2.0.1)\n",
      "Requirement already satisfied: kaldiio in /usr/local/lib/python3.7/dist-packages (from nemo_toolkit[all]) (2.17.2)\n",
      "Requirement already satisfied: torchmetrics>=0.4.1rc0 in /usr/local/lib/python3.7/dist-packages (from nemo_toolkit[all]) (0.6.0)\n",
      "Requirement already satisfied: transformers>=4.0.1 in /usr/local/lib/python3.7/dist-packages (from nemo_toolkit[all]) (4.12.5)\n",
      "Requirement already satisfied: typed-ast>=1.4.0 in /usr/local/lib/python3.7/dist-packages (from black==19.10b0->nemo_toolkit[all]) (1.5.0)\n",
      "Requirement already satisfied: appdirs in /usr/local/lib/python3.7/dist-packages (from black==19.10b0->nemo_toolkit[all]) (1.4.4)\n",
      "Requirement already satisfied: click>=6.5 in /usr/local/lib/python3.7/dist-packages (from black==19.10b0->nemo_toolkit[all]) (7.1.2)\n",
      "Requirement already satisfied: toml>=0.9.4 in /usr/local/lib/python3.7/dist-packages (from black==19.10b0->nemo_toolkit[all]) (0.10.2)\n",
      "Requirement already satisfied: attrs>=18.1.0 in /usr/local/lib/python3.7/dist-packages (from black==19.10b0->nemo_toolkit[all]) (21.2.0)\n",
      "Requirement already satisfied: pathspec<1,>=0.6 in /usr/local/lib/python3.7/dist-packages (from black==19.10b0->nemo_toolkit[all]) (0.9.0)\n",
      "Requirement already satisfied: antlr4-python3-runtime==4.8 in /usr/local/lib/python3.7/dist-packages (from hydra-core>=1.1.0->nemo_toolkit[all]) (4.8)\n",
      "Requirement already satisfied: importlib-resources in /usr/local/lib/python3.7/dist-packages (from hydra-core>=1.1.0->nemo_toolkit[all]) (5.4.0)\n",
      "Requirement already satisfied: pipreqs in /usr/local/lib/python3.7/dist-packages (from isort[requirements]<5->nemo_toolkit[all]) (0.4.11)\n",
      "Requirement already satisfied: pip-api in /usr/local/lib/python3.7/dist-packages (from isort[requirements]<5->nemo_toolkit[all]) (0.0.23)\n",
      "Requirement already satisfied: cycler>=0.10 in /usr/local/lib/python3.7/dist-packages (from matplotlib>=3.3.2->nemo_toolkit[all]) (0.11.0)\n",
      "Requirement already satisfied: pyparsing>=2.2.1 in /usr/local/lib/python3.7/dist-packages (from matplotlib>=3.3.2->nemo_toolkit[all]) (3.0.6)\n",
      "Requirement already satisfied: fonttools>=4.22.0 in /usr/local/lib/python3.7/dist-packages (from matplotlib>=3.3.2->nemo_toolkit[all]) (4.28.1)\n",
      "Requirement already satisfied: setuptools-scm>=4 in /usr/local/lib/python3.7/dist-packages (from matplotlib>=3.3.2->nemo_toolkit[all]) (6.3.2)\n",
      "Requirement already satisfied: kiwisolver>=1.0.1 in /usr/local/lib/python3.7/dist-packages (from matplotlib>=3.3.2->nemo_toolkit[all]) (1.3.2)\n",
      "Requirement already satisfied: protobuf in /usr/local/lib/python3.7/dist-packages (from onnx>=1.7.0->nemo_toolkit[all]) (3.17.3)\n",
      "Requirement already satisfied: six in /usr/local/lib/python3.7/dist-packages (from onnx>=1.7.0->nemo_toolkit[all]) (1.15.0)\n",
      "Requirement already satisfied: typing-extensions>=3.6.2.1 in /usr/local/lib/python3.7/dist-packages (from onnx>=1.7.0->nemo_toolkit[all]) (3.10.0.2)\n",
      "Requirement already satisfied: fsspec[http]!=2021.06.0,>=2021.05.0 in /usr/local/lib/python3.7/dist-packages (from pytorch-lightning>=1.5.0->nemo_toolkit[all]) (2021.11.1)\n",
      "Requirement already satisfied: future>=0.17.1 in /usr/local/lib/python3.7/dist-packages (from pytorch-lightning>=1.5.0->nemo_toolkit[all]) (0.18.2)\n",
      "Requirement already satisfied: tensorboard>=2.2.0 in /usr/local/lib/python3.7/dist-packages (from pytorch-lightning>=1.5.0->nemo_toolkit[all]) (2.7.0)\n",
      "Requirement already satisfied: pyDeprecate==0.3.1 in /usr/local/lib/python3.7/dist-packages (from pytorch-lightning>=1.5.0->nemo_toolkit[all]) (0.3.1)\n",
      "Requirement already satisfied: aiohttp in /usr/local/lib/python3.7/dist-packages (from fsspec[http]!=2021.06.0,>=2021.05.0->pytorch-lightning>=1.5.0->nemo_toolkit[all]) (3.8.1)\n",
      "Requirement already satisfied: requests in /usr/local/lib/python3.7/dist-packages (from fsspec[http]!=2021.06.0,>=2021.05.0->pytorch-lightning>=1.5.0->nemo_toolkit[all]) (2.23.0)\n",
      "Requirement already satisfied: joblib in /usr/local/lib/python3.7/dist-packages (from sacremoses>=0.0.43->nemo_toolkit[all]) (1.1.0)\n",
      "Requirement already satisfied: setuptools in /usr/local/lib/python3.7/dist-packages (from setuptools-scm>=4->matplotlib>=3.3.2->nemo_toolkit[all]) (57.4.0)\n",
      "Requirement already satisfied: tomli>=1.0.0 in /usr/local/lib/python3.7/dist-packages (from setuptools-scm>=4->matplotlib>=3.3.2->nemo_toolkit[all]) (1.2.2)\n",
      "Requirement already satisfied: grpcio>=1.24.3 in /usr/local/lib/python3.7/dist-packages (from tensorboard>=2.2.0->pytorch-lightning>=1.5.0->nemo_toolkit[all]) (1.42.0)\n",
      "Requirement already satisfied: absl-py>=0.4 in /usr/local/lib/python3.7/dist-packages (from tensorboard>=2.2.0->pytorch-lightning>=1.5.0->nemo_toolkit[all]) (0.12.0)\n",
      "Requirement already satisfied: google-auth<3,>=1.6.3 in /usr/local/lib/python3.7/dist-packages (from tensorboard>=2.2.0->pytorch-lightning>=1.5.0->nemo_toolkit[all]) (1.35.0)\n",
      "Requirement already satisfied: werkzeug>=0.11.15 in /usr/local/lib/python3.7/dist-packages (from tensorboard>=2.2.0->pytorch-lightning>=1.5.0->nemo_toolkit[all]) (1.0.1)\n",
      "Requirement already satisfied: google-auth-oauthlib<0.5,>=0.4.1 in /usr/local/lib/python3.7/dist-packages (from tensorboard>=2.2.0->pytorch-lightning>=1.5.0->nemo_toolkit[all]) (0.4.6)\n",
      "Requirement already satisfied: tensorboard-plugin-wit>=1.6.0 in /usr/local/lib/python3.7/dist-packages (from tensorboard>=2.2.0->pytorch-lightning>=1.5.0->nemo_toolkit[all]) (1.8.0)\n",
      "Requirement already satisfied: wheel>=0.26 in /usr/local/lib/python3.7/dist-packages (from tensorboard>=2.2.0->pytorch-lightning>=1.5.0->nemo_toolkit[all]) (0.37.0)\n",
      "Requirement already satisfied: markdown>=2.6.8 in /usr/local/lib/python3.7/dist-packages (from tensorboard>=2.2.0->pytorch-lightning>=1.5.0->nemo_toolkit[all]) (3.3.6)\n",
      "Requirement already satisfied: tensorboard-data-server<0.7.0,>=0.6.0 in /usr/local/lib/python3.7/dist-packages (from tensorboard>=2.2.0->pytorch-lightning>=1.5.0->nemo_toolkit[all]) (0.6.1)\n",
      "Requirement already satisfied: pyasn1-modules>=0.2.1 in /usr/local/lib/python3.7/dist-packages (from google-auth<3,>=1.6.3->tensorboard>=2.2.0->pytorch-lightning>=1.5.0->nemo_toolkit[all]) (0.2.8)\n",
      "Requirement already satisfied: cachetools<5.0,>=2.0.0 in /usr/local/lib/python3.7/dist-packages (from google-auth<3,>=1.6.3->tensorboard>=2.2.0->pytorch-lightning>=1.5.0->nemo_toolkit[all]) (4.2.4)\n",
      "Requirement already satisfied: rsa<5,>=3.1.4 in /usr/local/lib/python3.7/dist-packages (from google-auth<3,>=1.6.3->tensorboard>=2.2.0->pytorch-lightning>=1.5.0->nemo_toolkit[all]) (4.7.2)\n",
      "Requirement already satisfied: requests-oauthlib>=0.7.0 in /usr/local/lib/python3.7/dist-packages (from google-auth-oauthlib<0.5,>=0.4.1->tensorboard>=2.2.0->pytorch-lightning>=1.5.0->nemo_toolkit[all]) (1.3.0)\n",
      "Requirement already satisfied: importlib-metadata>=4.4 in /usr/local/lib/python3.7/dist-packages (from markdown>=2.6.8->tensorboard>=2.2.0->pytorch-lightning>=1.5.0->nemo_toolkit[all]) (4.8.2)\n",
      "Requirement already satisfied: zipp>=0.5 in /usr/local/lib/python3.7/dist-packages (from importlib-metadata>=4.4->markdown>=2.6.8->tensorboard>=2.2.0->pytorch-lightning>=1.5.0->nemo_toolkit[all]) (3.6.0)\n",
      "Requirement already satisfied: pyasn1<0.5.0,>=0.4.6 in /usr/local/lib/python3.7/dist-packages (from pyasn1-modules>=0.2.1->google-auth<3,>=1.6.3->tensorboard>=2.2.0->pytorch-lightning>=1.5.0->nemo_toolkit[all]) (0.4.8)\n",
      "Requirement already satisfied: chardet<4,>=3.0.2 in /usr/local/lib/python3.7/dist-packages (from requests->fsspec[http]!=2021.06.0,>=2021.05.0->pytorch-lightning>=1.5.0->nemo_toolkit[all]) (3.0.4)\n",
      "Requirement already satisfied: idna<3,>=2.5 in /usr/local/lib/python3.7/dist-packages (from requests->fsspec[http]!=2021.06.0,>=2021.05.0->pytorch-lightning>=1.5.0->nemo_toolkit[all]) (2.10)\n",
      "Requirement already satisfied: certifi>=2017.4.17 in /usr/local/lib/python3.7/dist-packages (from requests->fsspec[http]!=2021.06.0,>=2021.05.0->pytorch-lightning>=1.5.0->nemo_toolkit[all]) (2021.10.8)\n",
      "Requirement already satisfied: urllib3!=1.25.0,!=1.25.1,<1.26,>=1.21.1 in /usr/local/lib/python3.7/dist-packages (from requests->fsspec[http]!=2021.06.0,>=2021.05.0->pytorch-lightning>=1.5.0->nemo_toolkit[all]) (1.25.11)\n",
      "Requirement already satisfied: oauthlib>=3.0.0 in /usr/local/lib/python3.7/dist-packages (from requests-oauthlib>=0.7.0->google-auth-oauthlib<0.5,>=0.4.1->tensorboard>=2.2.0->pytorch-lightning>=1.5.0->nemo_toolkit[all]) (3.1.1)\n",
      "Requirement already satisfied: tokenizers<0.11,>=0.10.1 in /usr/local/lib/python3.7/dist-packages (from transformers>=4.0.1->nemo_toolkit[all]) (0.10.3)\n",
      "Requirement already satisfied: filelock in /usr/local/lib/python3.7/dist-packages (from transformers>=4.0.1->nemo_toolkit[all]) (3.4.0)\n",
      "Requirement already satisfied: huggingface-hub<1.0,>=0.1.0 in /usr/local/lib/python3.7/dist-packages (from transformers>=4.0.1->nemo_toolkit[all]) (0.1.2)\n",
      "Requirement already satisfied: multidict<7.0,>=4.5 in /usr/local/lib/python3.7/dist-packages (from aiohttp->fsspec[http]!=2021.06.0,>=2021.05.0->pytorch-lightning>=1.5.0->nemo_toolkit[all]) (5.2.0)\n",
      "Requirement already satisfied: frozenlist>=1.1.1 in /usr/local/lib/python3.7/dist-packages (from aiohttp->fsspec[http]!=2021.06.0,>=2021.05.0->pytorch-lightning>=1.5.0->nemo_toolkit[all]) (1.2.0)\n",
      "Requirement already satisfied: aiosignal>=1.1.2 in /usr/local/lib/python3.7/dist-packages (from aiohttp->fsspec[http]!=2021.06.0,>=2021.05.0->pytorch-lightning>=1.5.0->nemo_toolkit[all]) (1.2.0)\n",
      "Requirement already satisfied: asynctest==0.13.0 in /usr/local/lib/python3.7/dist-packages (from aiohttp->fsspec[http]!=2021.06.0,>=2021.05.0->pytorch-lightning>=1.5.0->nemo_toolkit[all]) (0.13.0)\n",
      "Requirement already satisfied: async-timeout<5.0,>=4.0.0a3 in /usr/local/lib/python3.7/dist-packages (from aiohttp->fsspec[http]!=2021.06.0,>=2021.05.0->pytorch-lightning>=1.5.0->nemo_toolkit[all]) (4.0.1)\n",
      "Requirement already satisfied: yarl<2.0,>=1.0 in /usr/local/lib/python3.7/dist-packages (from aiohttp->fsspec[http]!=2021.06.0,>=2021.05.0->pytorch-lightning>=1.5.0->nemo_toolkit[all]) (1.7.2)\n",
      "Requirement already satisfied: charset-normalizer<3.0,>=2.0 in /usr/local/lib/python3.7/dist-packages (from aiohttp->fsspec[http]!=2021.06.0,>=2021.05.0->pytorch-lightning>=1.5.0->nemo_toolkit[all]) (2.0.7)\n",
      "Requirement already satisfied: botocore<1.24.0,>=1.23.16 in /usr/local/lib/python3.7/dist-packages (from boto3->nemo_toolkit[all]) (1.23.16)\n",
      "Requirement already satisfied: s3transfer<0.6.0,>=0.5.0 in /usr/local/lib/python3.7/dist-packages (from boto3->nemo_toolkit[all]) (0.5.0)\n",
      "Requirement already satisfied: jmespath<1.0.0,>=0.7.1 in /usr/local/lib/python3.7/dist-packages (from boto3->nemo_toolkit[all]) (0.10.0)\n",
      "Requirement already satisfied: pybind11>=2.2 in /usr/local/lib/python3.7/dist-packages (from fasttext->nemo_toolkit[all]) (2.8.1)\n",
      "Requirement already satisfied: distance>=0.1.3 in /usr/local/lib/python3.7/dist-packages (from g2p-en->nemo_toolkit[all]) (0.1.3)\n",
      "Requirement already satisfied: cached-property in /usr/local/lib/python3.7/dist-packages (from h5py->nemo_toolkit[all]) (1.5.2)\n",
      "Requirement already satisfied: ipykernel>=4.5.1 in /usr/local/lib/python3.7/dist-packages (from ipywidgets->nemo_toolkit[all]) (4.10.1)\n",
      "Requirement already satisfied: widgetsnbextension~=3.5.0 in /usr/local/lib/python3.7/dist-packages (from ipywidgets->nemo_toolkit[all]) (3.5.2)\n",
      "Requirement already satisfied: ipython>=4.0.0 in /usr/local/lib/python3.7/dist-packages (from ipywidgets->nemo_toolkit[all]) (5.5.0)\n",
      "Requirement already satisfied: traitlets>=4.3.1 in /usr/local/lib/python3.7/dist-packages (from ipywidgets->nemo_toolkit[all]) (5.1.1)\n",
      "Requirement already satisfied: ipython-genutils~=0.2.0 in /usr/local/lib/python3.7/dist-packages (from ipywidgets->nemo_toolkit[all]) (0.2.0)\n",
      "Requirement already satisfied: jupyterlab-widgets>=1.0.0 in /usr/local/lib/python3.7/dist-packages (from ipywidgets->nemo_toolkit[all]) (1.0.2)\n",
      "Requirement already satisfied: nbformat>=4.2.0 in /usr/local/lib/python3.7/dist-packages (from ipywidgets->nemo_toolkit[all]) (5.1.3)\n",
      "Requirement already satisfied: jupyter-client in /usr/local/lib/python3.7/dist-packages (from ipykernel>=4.5.1->ipywidgets->nemo_toolkit[all]) (5.3.5)\n",
      "Requirement already satisfied: tornado>=4.0 in /usr/local/lib/python3.7/dist-packages (from ipykernel>=4.5.1->ipywidgets->nemo_toolkit[all]) (5.1.1)\n",
      "Requirement already satisfied: prompt-toolkit<2.0.0,>=1.0.4 in /usr/local/lib/python3.7/dist-packages (from ipython>=4.0.0->ipywidgets->nemo_toolkit[all]) (1.0.18)\n",
      "Requirement already satisfied: pexpect in /usr/local/lib/python3.7/dist-packages (from ipython>=4.0.0->ipywidgets->nemo_toolkit[all]) (4.8.0)\n",
      "Requirement already satisfied: pygments in /usr/local/lib/python3.7/dist-packages (from ipython>=4.0.0->ipywidgets->nemo_toolkit[all]) (2.6.1)\n",
      "Requirement already satisfied: pickleshare in /usr/local/lib/python3.7/dist-packages (from ipython>=4.0.0->ipywidgets->nemo_toolkit[all]) (0.7.5)\n",
      "Requirement already satisfied: decorator in /usr/local/lib/python3.7/dist-packages (from ipython>=4.0.0->ipywidgets->nemo_toolkit[all]) (4.4.2)\n",
      "Requirement already satisfied: simplegeneric>0.8 in /usr/local/lib/python3.7/dist-packages (from ipython>=4.0.0->ipywidgets->nemo_toolkit[all]) (0.8.1)\n",
      "Requirement already satisfied: jsonschema!=2.5.0,>=2.4 in /usr/local/lib/python3.7/dist-packages (from nbformat>=4.2.0->ipywidgets->nemo_toolkit[all]) (2.6.0)\n",
      "Requirement already satisfied: jupyter-core in /usr/local/lib/python3.7/dist-packages (from nbformat>=4.2.0->ipywidgets->nemo_toolkit[all]) (4.9.1)\n",
      "Requirement already satisfied: wcwidth in /usr/local/lib/python3.7/dist-packages (from prompt-toolkit<2.0.0,>=1.0.4->ipython>=4.0.0->ipywidgets->nemo_toolkit[all]) (0.2.5)\n",
      "Requirement already satisfied: notebook>=4.4.1 in /usr/local/lib/python3.7/dist-packages (from widgetsnbextension~=3.5.0->ipywidgets->nemo_toolkit[all]) (5.3.1)\n",
      "Requirement already satisfied: Send2Trash in /usr/local/lib/python3.7/dist-packages (from notebook>=4.4.1->widgetsnbextension~=3.5.0->ipywidgets->nemo_toolkit[all]) (1.8.0)\n",
      "Requirement already satisfied: terminado>=0.8.1 in /usr/local/lib/python3.7/dist-packages (from notebook>=4.4.1->widgetsnbextension~=3.5.0->ipywidgets->nemo_toolkit[all]) (0.12.1)\n",
      "Requirement already satisfied: jinja2 in /usr/local/lib/python3.7/dist-packages (from notebook>=4.4.1->widgetsnbextension~=3.5.0->ipywidgets->nemo_toolkit[all]) (2.11.3)\n",
      "Requirement already satisfied: nbconvert in /usr/local/lib/python3.7/dist-packages (from notebook>=4.4.1->widgetsnbextension~=3.5.0->ipywidgets->nemo_toolkit[all]) (5.6.1)\n",
      "Requirement already satisfied: pyzmq>=13 in /usr/local/lib/python3.7/dist-packages (from jupyter-client->ipykernel>=4.5.1->ipywidgets->nemo_toolkit[all]) (22.3.0)\n",
      "Requirement already satisfied: ptyprocess in /usr/local/lib/python3.7/dist-packages (from terminado>=0.8.1->notebook>=4.4.1->widgetsnbextension~=3.5.0->ipywidgets->nemo_toolkit[all]) (0.7.0)\n",
      "Requirement already satisfied: MarkupSafe>=0.23 in /usr/local/lib/python3.7/dist-packages (from jinja2->notebook>=4.4.1->widgetsnbextension~=3.5.0->ipywidgets->nemo_toolkit[all]) (2.0.1)\n",
      "Requirement already satisfied: resampy>=0.2.2 in /usr/local/lib/python3.7/dist-packages (from librosa->nemo_toolkit[all]) (0.2.2)\n",
      "Requirement already satisfied: pooch>=1.0 in /usr/local/lib/python3.7/dist-packages (from librosa->nemo_toolkit[all]) (1.5.2)\n",
      "Requirement already satisfied: audioread>=2.0.0 in /usr/local/lib/python3.7/dist-packages (from librosa->nemo_toolkit[all]) (2.1.9)\n",
      "Requirement already satisfied: llvmlite<0.35,>=0.34.0.dev0 in /usr/local/lib/python3.7/dist-packages (from numba->nemo_toolkit[all]) (0.34.0)\n",
      "Requirement already satisfied: threadpoolctl>=2.0.0 in /usr/local/lib/python3.7/dist-packages (from scikit-learn->nemo_toolkit[all]) (3.0.0)\n",
      "Requirement already satisfied: cffi>=1.0 in /usr/local/lib/python3.7/dist-packages (from soundfile->nemo_toolkit[all]) (1.15.0)\n",
      "Requirement already satisfied: pycparser in /usr/local/lib/python3.7/dist-packages (from cffi>=1.0->soundfile->nemo_toolkit[all]) (2.21)\n",
      "Requirement already satisfied: pandocfilters>=1.4.1 in /usr/local/lib/python3.7/dist-packages (from nbconvert->notebook>=4.4.1->widgetsnbextension~=3.5.0->ipywidgets->nemo_toolkit[all]) (1.5.0)\n",
      "Requirement already satisfied: mistune<2,>=0.8.1 in /usr/local/lib/python3.7/dist-packages (from nbconvert->notebook>=4.4.1->widgetsnbextension~=3.5.0->ipywidgets->nemo_toolkit[all]) (0.8.4)\n",
      "Requirement already satisfied: testpath in /usr/local/lib/python3.7/dist-packages (from nbconvert->notebook>=4.4.1->widgetsnbextension~=3.5.0->ipywidgets->nemo_toolkit[all]) (0.5.0)\n",
      "Requirement already satisfied: bleach in /usr/local/lib/python3.7/dist-packages (from nbconvert->notebook>=4.4.1->widgetsnbextension~=3.5.0->ipywidgets->nemo_toolkit[all]) (4.1.0)\n",
      "Requirement already satisfied: defusedxml in /usr/local/lib/python3.7/dist-packages (from nbconvert->notebook>=4.4.1->widgetsnbextension~=3.5.0->ipywidgets->nemo_toolkit[all]) (0.7.1)\n",
      "Requirement already satisfied: entrypoints>=0.2.2 in /usr/local/lib/python3.7/dist-packages (from nbconvert->notebook>=4.4.1->widgetsnbextension~=3.5.0->ipywidgets->nemo_toolkit[all]) (0.3)\n",
      "Requirement already satisfied: webencodings in /usr/local/lib/python3.7/dist-packages (from bleach->nbconvert->notebook>=4.4.1->widgetsnbextension~=3.5.0->ipywidgets->nemo_toolkit[all]) (0.5.1)\n",
      "Requirement already satisfied: pytz>=2017.2 in /usr/local/lib/python3.7/dist-packages (from pandas->nemo_toolkit[all]) (2018.9)\n",
      "Requirement already satisfied: pip in /usr/local/lib/python3.7/dist-packages (from pip-api->isort[requirements]<5->nemo_toolkit[all]) (21.1.3)\n",
      "Requirement already satisfied: yarg in /usr/local/lib/python3.7/dist-packages (from pipreqs->isort[requirements]<5->nemo_toolkit[all]) (0.1.9)\n",
      "Requirement already satisfied: docopt in /usr/local/lib/python3.7/dist-packages (from pipreqs->isort[requirements]<5->nemo_toolkit[all]) (0.6.2)\n",
      "Requirement already satisfied: simplejson>=3.8.1 in /usr/local/lib/python3.7/dist-packages (from pyannote.core->nemo_toolkit[all]) (3.17.6)\n",
      "Requirement already satisfied: sortedcontainers>=2.0.4 in /usr/local/lib/python3.7/dist-packages (from pyannote.core->nemo_toolkit[all]) (2.4.0)\n",
      "Requirement already satisfied: tabulate>=0.7.7 in /usr/local/lib/python3.7/dist-packages (from pyannote.metrics->nemo_toolkit[all]) (0.8.9)\n",
      "Requirement already satisfied: pyannote.database>=4.0.1 in /usr/local/lib/python3.7/dist-packages (from pyannote.metrics->nemo_toolkit[all]) (4.1.1)\n",
      "Requirement already satisfied: sympy>=1.1 in /usr/local/lib/python3.7/dist-packages (from pyannote.metrics->nemo_toolkit[all]) (1.7.1)\n",
      "Requirement already satisfied: typer[all]>=0.2.1 in /usr/local/lib/python3.7/dist-packages (from pyannote.database>=4.0.1->pyannote.metrics->nemo_toolkit[all]) (0.4.0)\n",
      "Requirement already satisfied: mpmath>=0.19 in /usr/local/lib/python3.7/dist-packages (from sympy>=1.1->pyannote.metrics->nemo_toolkit[all]) (1.2.1)\n",
      "Requirement already satisfied: shellingham<2.0.0,>=1.3.0 in /usr/local/lib/python3.7/dist-packages (from typer[all]>=0.2.1->pyannote.database>=4.0.1->pyannote.metrics->nemo_toolkit[all]) (1.4.0)\n",
      "Requirement already satisfied: colorama<0.5.0,>=0.4.3 in /usr/local/lib/python3.7/dist-packages (from typer[all]>=0.2.1->pyannote.database>=4.0.1->pyannote.metrics->nemo_toolkit[all]) (0.4.4)\n",
      "Requirement already satisfied: atomicwrites>=1.0 in /usr/local/lib/python3.7/dist-packages (from pytest->nemo_toolkit[all]) (1.4.0)\n",
      "Requirement already satisfied: py>=1.5.0 in /usr/local/lib/python3.7/dist-packages (from pytest->nemo_toolkit[all]) (1.11.0)\n",
      "Requirement already satisfied: pluggy<0.8,>=0.5 in /usr/local/lib/python3.7/dist-packages (from pytest->nemo_toolkit[all]) (0.7.1)\n",
      "Requirement already satisfied: more-itertools>=4.0.0 in /usr/local/lib/python3.7/dist-packages (from pytest->nemo_toolkit[all]) (8.11.0)\n",
      "Requirement already satisfied: ruamel.yaml.clib>=0.1.2 in /usr/local/lib/python3.7/dist-packages (from ruamel.yaml->nemo_toolkit[all]) (0.2.6)\n",
      "Requirement already satisfied: portalocker in /usr/local/lib/python3.7/dist-packages (from sacrebleu[ja]->nemo_toolkit[all]) (2.3.2)\n",
      "Requirement already satisfied: ipadic<2.0,>=1.0 in /usr/local/lib/python3.7/dist-packages (from sacrebleu[ja]->nemo_toolkit[all]) (1.0.0)\n",
      "Requirement already satisfied: mecab-python3==1.0.3 in /usr/local/lib/python3.7/dist-packages (from sacrebleu[ja]->nemo_toolkit[all]) (1.0.3)\n",
      "Requirement already satisfied: sphinxcontrib-qthelp in /usr/local/lib/python3.7/dist-packages (from sphinx->nemo_toolkit[all]) (1.0.3)\n",
      "Requirement already satisfied: sphinxcontrib-htmlhelp>=2.0.0 in /usr/local/lib/python3.7/dist-packages (from sphinx->nemo_toolkit[all]) (2.0.0)\n",
      "Requirement already satisfied: snowballstemmer>=1.1 in /usr/local/lib/python3.7/dist-packages (from sphinx->nemo_toolkit[all]) (2.2.0)\n",
      "Requirement already satisfied: sphinxcontrib-jsmath in /usr/local/lib/python3.7/dist-packages (from sphinx->nemo_toolkit[all]) (1.0.1)\n",
      "Requirement already satisfied: imagesize in /usr/local/lib/python3.7/dist-packages (from sphinx->nemo_toolkit[all]) (1.3.0)\n",
      "Requirement already satisfied: sphinxcontrib-devhelp in /usr/local/lib/python3.7/dist-packages (from sphinx->nemo_toolkit[all]) (1.0.2)\n",
      "Requirement already satisfied: alabaster<0.8,>=0.7 in /usr/local/lib/python3.7/dist-packages (from sphinx->nemo_toolkit[all]) (0.7.12)\n",
      "Requirement already satisfied: sphinxcontrib-serializinghtml>=1.1.5 in /usr/local/lib/python3.7/dist-packages (from sphinx->nemo_toolkit[all]) (1.1.5)\n",
      "Requirement already satisfied: sphinxcontrib-applehelp in /usr/local/lib/python3.7/dist-packages (from sphinx->nemo_toolkit[all]) (1.0.2)\n",
      "Requirement already satisfied: docutils<0.18,>=0.14 in /usr/local/lib/python3.7/dist-packages (from sphinx->nemo_toolkit[all]) (0.17.1)\n",
      "Requirement already satisfied: babel>=1.3 in /usr/local/lib/python3.7/dist-packages (from sphinx->nemo_toolkit[all]) (2.9.1)\n",
      "Requirement already satisfied: pybtex>=0.20 in /usr/local/lib/python3.7/dist-packages (from sphinxcontrib-bibtex->nemo_toolkit[all]) (0.24.0)\n",
      "Requirement already satisfied: pybtex-docutils>=1.0.0 in /usr/local/lib/python3.7/dist-packages (from sphinxcontrib-bibtex->nemo_toolkit[all]) (1.0.1)\n",
      "Requirement already satisfied: latexcodec>=1.0.4 in /usr/local/lib/python3.7/dist-packages (from pybtex>=0.20->sphinxcontrib-bibtex->nemo_toolkit[all]) (2.0.1)\n",
      "Requirement already satisfied: sentry-sdk>=1.0.0 in /usr/local/lib/python3.7/dist-packages (from wandb->nemo_toolkit[all]) (1.5.0)\n",
      "Requirement already satisfied: configparser>=3.8.1 in /usr/local/lib/python3.7/dist-packages (from wandb->nemo_toolkit[all]) (5.1.0)\n",
      "Requirement already satisfied: GitPython>=1.0.0 in /usr/local/lib/python3.7/dist-packages (from wandb->nemo_toolkit[all]) (3.1.24)\n",
      "Requirement already satisfied: subprocess32>=3.5.3 in /usr/local/lib/python3.7/dist-packages (from wandb->nemo_toolkit[all]) (3.5.4)\n",
      "Requirement already satisfied: yaspin>=1.0.0 in /usr/local/lib/python3.7/dist-packages (from wandb->nemo_toolkit[all]) (2.1.0)\n",
      "Requirement already satisfied: promise<3,>=2.0 in /usr/local/lib/python3.7/dist-packages (from wandb->nemo_toolkit[all]) (2.3)\n",
      "Requirement already satisfied: pathtools in /usr/local/lib/python3.7/dist-packages (from wandb->nemo_toolkit[all]) (0.1.2)\n",
      "Requirement already satisfied: docker-pycreds>=0.4.0 in /usr/local/lib/python3.7/dist-packages (from wandb->nemo_toolkit[all]) (0.4.0)\n",
      "Requirement already satisfied: shortuuid>=0.5.0 in /usr/local/lib/python3.7/dist-packages (from wandb->nemo_toolkit[all]) (1.0.8)\n",
      "Requirement already satisfied: psutil>=5.0.0 in /usr/local/lib/python3.7/dist-packages (from wandb->nemo_toolkit[all]) (5.4.8)\n",
      "Requirement already satisfied: gitdb<5,>=4.0.1 in /usr/local/lib/python3.7/dist-packages (from GitPython>=1.0.0->wandb->nemo_toolkit[all]) (4.0.9)\n",
      "Requirement already satisfied: smmap<6,>=3.0.1 in /usr/local/lib/python3.7/dist-packages (from gitdb<5,>=4.0.1->GitPython>=1.0.0->wandb->nemo_toolkit[all]) (5.0.0)\n",
      "Requirement already satisfied: termcolor<2.0.0,>=1.1.0 in /usr/local/lib/python3.7/dist-packages (from yaspin>=1.0.0->wandb->nemo_toolkit[all]) (1.1.0)\n",
      "Installing collected packages: matplotlib\n",
      "  Attempting uninstall: matplotlib\n",
      "    Found existing installation: matplotlib 3.2.2\n",
      "    Uninstalling matplotlib-3.2.2:\n",
      "      Successfully uninstalled matplotlib-3.2.2\n",
      "\u001b[31mERROR: pip's dependency resolver does not currently take into account all the packages that are installed. This behaviour is the source of the following dependency conflicts.\n",
      "albumentations 0.1.12 requires imgaug<0.2.7,>=0.2.5, but you have imgaug 0.2.9 which is incompatible.\u001b[0m\n",
      "Successfully installed matplotlib-3.5.0\n"
     ]
    },
    {
     "data": {
      "application/vnd.google.colaboratory.intrinsic+json": {
       "type": "string"
      },
      "text/plain": [
       "'\\nRemember to restart the runtime for the kernel to pick up any upgraded packages (e.g. matplotlib)!\\nAlternatively, you can uncomment the exit() below to crash and restart the kernel, in the case\\nthat you want to use the \"Run All Cells\" (or similar) option.\\n'"
      ]
     },
     "execution_count": 1,
     "metadata": {},
     "output_type": "execute_result"
    }
   ],
   "source": [
    "# If you're using Google Colab and not running locally, run this cell.\n",
    "\n",
    "## Install dependencies\n",
    "!pip install wget\n",
    "!apt-get install sox libsndfile1 ffmpeg\n",
    "!pip install unidecode\n",
    "\n",
    "\n",
    "## Install NeMo\n",
    "!python -m pip install nemo_toolkit[all]\n",
    "\n",
    "# !pip install torchtext==0.10.1\n",
    "# !pip install matplotlib==3.1.3\n",
    "\"\"\"\n",
    "Remember to restart the runtime for the kernel to pick up any upgraded packages (e.g. matplotlib)!\n",
    "Alternatively, you can uncomment the exit() below to crash and restart the kernel, in the case\n",
    "that you want to use the \"Run All Cells\" (or similar) option.\n",
    "\"\"\"\n",
    "# exit()"
   ]
  },
  {
   "cell_type": "code",
   "execution_count": 2,
   "metadata": {
    "id": "cbAYYvrtNA8p"
   },
   "outputs": [],
   "source": [
    "# exit()"
   ]
  },
  {
   "cell_type": "code",
   "execution_count": 2,
   "metadata": {
    "id": "4PjsY8_BfGvu"
   },
   "outputs": [],
   "source": [
    "# Папка, где будет размещаться датасет Golos\n",
    "data_dir = '/content'"
   ]
  },
  {
   "cell_type": "code",
   "execution_count": 3,
   "metadata": {
    "colab": {
     "base_uri": "https://localhost:8080/"
    },
    "id": "RbYaxCikfGyJ",
    "outputId": "39922a4f-c877-4cd5-d00a-4f22bcd166f9"
   },
   "outputs": [
    {
     "name": "stdout",
     "output_type": "stream",
     "text": [
      "sample_data\n"
     ]
    }
   ],
   "source": [
    "! ls /content"
   ]
  },
  {
   "cell_type": "markdown",
   "metadata": {
    "id": "uVT-2a0kmqvC"
   },
   "source": [
    "# Dataset load"
   ]
  },
  {
   "cell_type": "code",
   "execution_count": 4,
   "metadata": {
    "colab": {
     "base_uri": "https://localhost:8080/"
    },
    "id": "RlVNOZixfG0t",
    "outputId": "73fac2a3-f316-4330-d167-8f0a13ee03cc"
   },
   "outputs": [
    {
     "name": "stdout",
     "output_type": "stream",
     "text": [
      "Dataset downloaded at: /content/test.tar\n",
      "Dataset downloaded at: /content/train.tar\n"
     ]
    }
   ],
   "source": [
    "import glob\n",
    "import os\n",
    "import subprocess\n",
    "import tarfile\n",
    "import wget\n",
    "\n",
    "# Загрузка датасета Golos\n",
    "def load(golos_url, fname):\n",
    "  if not os.path.exists(os.path.join(data_dir, fname)):\n",
    "      golos_path = wget.download(golos_url, os.path.join(data_dir, fname))\n",
    "      print(f\"Dataset downloaded at: {golos_path}\")\n",
    "  else:\n",
    "      print(\"Tarfile already exists.\")\n",
    "      golos_path = os.path.join(data_dir, fname)\n",
    "  return golos_path\n",
    "\n",
    "def extract_tar(tar_path, dir_name ):\n",
    "  if not os.path.exists(os.path.join(data_dir, dir_name)):\n",
    "    tar = tarfile.open(tar_path)\n",
    "    tar.extractall(path=data_dir)\n",
    "\n",
    "golos_path = load(\"https://sc.link/Kqr\", \"test.tar\")\n",
    "golos_path_train = load(\"https://sc.link/1Z3\", \"train.tar\")\n",
    "\n",
    "extract_tar(golos_path, '/test/')\n",
    "extract_tar(golos_path_train, '/train/')"
   ]
  },
  {
   "cell_type": "code",
   "execution_count": 18,
   "metadata": {
    "colab": {
     "base_uri": "https://localhost:8080/"
    },
    "id": "VvecDjywfG3L",
    "outputId": "3005d485-0d35-4005-af54-a7bbedee05f1"
   },
   "outputs": [
    {
     "name": "stdout",
     "output_type": "stream",
     "text": [
      "--2021-11-30 05:19:37--  https://github.com/karpnv/nis_speech/raw/master/train_manifest.jsonl.zip\n",
      "Resolving github.com (github.com)... 140.82.114.4\n",
      "Connecting to github.com (github.com)|140.82.114.4|:443... connected.\n",
      "HTTP request sent, awaiting response... 302 Found\n",
      "Location: https://raw.githubusercontent.com/karpnv/nis_speech/master/train_manifest.jsonl.zip [following]\n",
      "--2021-11-30 05:19:37--  https://raw.githubusercontent.com/karpnv/nis_speech/master/train_manifest.jsonl.zip\n",
      "Resolving raw.githubusercontent.com (raw.githubusercontent.com)... 185.199.111.133, 185.199.109.133, 185.199.110.133, ...\n",
      "Connecting to raw.githubusercontent.com (raw.githubusercontent.com)|185.199.111.133|:443... connected.\n",
      "HTTP request sent, awaiting response... 200 OK\n",
      "Length: 52145788 (50M) [application/zip]\n",
      "Saving to: ‘train_manifest.jsonl.zip.1’\n",
      "\n",
      "train_manifest.json 100%[===================>]  49.73M   153MB/s    in 0.3s    \n",
      "\n",
      "2021-11-30 05:19:37 (153 MB/s) - ‘train_manifest.jsonl.zip.1’ saved [52145788/52145788]\n",
      "\n",
      "Archive:  /content/train_manifest.jsonl.zip\n",
      "  inflating: train_manifest.jsonl    \n"
     ]
    }
   ],
   "source": [
    "!wget https://github.com/karpnv/nis_speech/raw/master/train_manifest.jsonl.zip\n",
    "!unzip /content/train_manifest.jsonl.zip"
   ]
  },
  {
   "cell_type": "code",
   "execution_count": 19,
   "metadata": {
    "colab": {
     "base_uri": "https://localhost:8080/"
    },
    "id": "eUiduHrpfPGn",
    "outputId": "ea777eb0-6780-4231-93e8-5e88c73e5d29"
   },
   "outputs": [
    {
     "name": "stdout",
     "output_type": "stream",
     "text": [
      "total 17104320\n",
      "drwxr-xr-x 1 root root        4096 Nov 30 05:19 .\n",
      "drwxr-xr-x 1 root root        4096 Nov 30 04:53 ..\n",
      "drwxr-xr-x 4 root root        4096 Nov 18 14:35 .config\n",
      "-rw-r--r-- 1 root root    71179174 Nov 30 05:18 QuartzNet15x5_golos.nemo\n",
      "drwxr-xr-x 1 root root        4096 Nov 18 14:36 sample_data\n",
      "drwxr-xr-x 4 1000 1000        4096 Apr 20  2021 test\n",
      "-rw-r--r-- 1 root root  1628508160 Nov 30 04:59 test.tar\n",
      "drwxr-xr-x 3 root root        4096 Nov 30 05:17 train\n",
      "-rw-r--r-- 1 root root   350713145 Apr 20  2021 train_manifest.jsonl\n",
      "-rw-r--r-- 1 root root    52145788 Nov 30 05:17 train_manifest.jsonl.zip\n",
      "-rw-r--r-- 1 root root    52145788 Nov 30 05:19 train_manifest.jsonl.zip.1\n",
      "-rw-r--r-- 1 root root 15360092160 Nov 30 05:11 train.tar\n"
     ]
    }
   ],
   "source": [
    "!ls -la /content"
   ]
  },
  {
   "cell_type": "code",
   "execution_count": 20,
   "metadata": {
    "colab": {
     "base_uri": "https://localhost:8080/"
    },
    "id": "xnTkps74peN9",
    "outputId": "6c1896e7-66a0-4756-db11-eaee91f73902"
   },
   "outputs": [
    {
     "name": "stdout",
     "output_type": "stream",
     "text": [
      "total 1280\n",
      "drwxr-xr-x 3 1000 1000   4096 Nov 30 05:17 .\n",
      "drwxr-xr-x 4 1000 1000   4096 Apr 20  2021 ..\n",
      "-rw-r--r-- 1 root root 605893 Nov 30 05:17 farfield.jsonl\n",
      "drwxr-xr-x 2 1000 1000 131072 Mar 14  2021 files\n",
      "-rw-r--r-- 1 1000 1000 561825 Mar 17  2021 manifest.jsonl\n"
     ]
    }
   ],
   "source": [
    "!ls -la /content/test/farfield"
   ]
  },
  {
   "cell_type": "code",
   "execution_count": 21,
   "metadata": {
    "colab": {
     "base_uri": "https://localhost:8080/"
    },
    "id": "Ed-m-IH0fRmT",
    "outputId": "1948905f-ba54-4b1e-e564-1bcd61bd5e5f"
   },
   "outputs": [
    {
     "name": "stdout",
     "output_type": "stream",
     "text": [
      "total 393360\n",
      "drwxr-xr-x 3 root root      4096 Nov 30 05:17 .\n",
      "drwxr-xr-x 1 root root      4096 Nov 30 05:19 ..\n",
      "drwxr-xr-x 2 1000 1000   8052736 Mar 14  2021 farfield\n",
      "-rw-r--r-- 1 root root  44018241 Nov 30 05:18 manifest.jsonl\n",
      "-rw-r--r-- 1 root root 350713145 Apr 20  2021 train_manifest.jsonl\n"
     ]
    }
   ],
   "source": [
    "!ls -la /content/train/ | head"
   ]
  },
  {
   "cell_type": "code",
   "execution_count": 9,
   "metadata": {
    "id": "F3Rm-GcLwKA1"
   },
   "outputs": [],
   "source": [
    "!mv /content/train_manifest.jsonl /content/train/"
   ]
  },
  {
   "cell_type": "markdown",
   "metadata": {
    "id": "HcOTVHZNmyjD"
   },
   "source": [
    "# Prepare data"
   ]
  },
  {
   "cell_type": "code",
   "execution_count": 22,
   "metadata": {
    "id": "yho16hPEpVtP"
   },
   "outputs": [],
   "source": [
    "import json\n",
    "\n",
    "def build_manifest(manifest_rel, manifest_abs, parse_farfield=True, test_data=True):\n",
    "  manifest_path = os.path.split(os.path.abspath(manifest_rel))[0]\n",
    "  with open(manifest_rel, 'r') as fin:\n",
    "    with open(manifest_abs, 'w') as fout:\n",
    "      for line in fin:\n",
    "        metadata = json.loads(line)\n",
    "        if metadata['audio_filepath'].startswith('farfield') or not parse_farfield:\n",
    "          if metadata['duration'] > 0.1 or test_data:\n",
    "            metadata[\"audio_filepath\"]=os.path.join(manifest_path, metadata[\"audio_filepath\"])\n",
    "            json.dump(metadata, fout)\n",
    "            fout.write('\\n')\n",
    "\n",
    "def build_manifest_filtered(manifest_rel, manifest_abs, filter_id,parse_farfield=True, test_data=True, rand_ratio=1):\n",
    "  manifest_path = os.path.split(os.path.abspath(manifest_rel))[0]\n",
    "  with open(manifest_rel, 'r') as fin:\n",
    "    with open(manifest_abs, 'w') as fout:\n",
    "      for line in fin:\n",
    "        metadata = json.loads(line)\n",
    "        if metadata['audio_filepath'].startswith('farfield') or not parse_farfield:\n",
    "          if (metadata['duration'] > 0.1 or test_data) and metadata['id'] in filter_id:\n",
    "            metadata[\"audio_filepath\"]=os.path.join(manifest_path, metadata[\"audio_filepath\"])\n",
    "            json.dump(metadata, fout)\n",
    "            fout.write('\\n')"
   ]
  },
  {
   "cell_type": "code",
   "execution_count": 23,
   "metadata": {
    "colab": {
     "base_uri": "https://localhost:8080/"
    },
    "id": "u7kYNjnBt5hp",
    "outputId": "d52f66a4-9266-480a-c5e1-1b2352feaa7d"
   },
   "outputs": [
    {
     "name": "stdout",
     "output_type": "stream",
     "text": [
      "******\n",
      "test_manifest /content/test/farfield/farfield.jsonl\n",
      "train_manifest /content/train/manifest.jsonl\n"
     ]
    }
   ],
   "source": [
    "print(\"******\")\n",
    "train_rel = os.path.join(data_dir, 'test/farfield/manifest.jsonl')\n",
    "train_abs = os.path.join(data_dir, 'test/farfield/farfield.jsonl')\n",
    "# if not os.path.isfile(train_abs):\n",
    "build_manifest(train_rel, train_abs, parse_farfield=False)\n",
    "test_manifest = train_abs\n",
    "print(\"test_manifest\", test_manifest)\n",
    "\n",
    "train_rel = os.path.join(data_dir, 'train/train_manifest.jsonl')\n",
    "train_abs = os.path.join(data_dir, 'train/manifest.jsonl')\n",
    "# if not os.path.isfile(train_abs):\n",
    "build_manifest(train_rel, train_abs, test_data=False)\n",
    "train_manifest = train_abs\n",
    "print(\"train_manifest\", train_manifest)"
   ]
  },
  {
   "cell_type": "code",
   "execution_count": 12,
   "metadata": {
    "colab": {
     "base_uri": "https://localhost:8080/"
    },
    "id": "A6WuWO-t2ONJ",
    "outputId": "72ccd3fb-070f-4c9d-d8df-ec1e52f39f59"
   },
   "outputs": [
    {
     "name": "stdout",
     "output_type": "stream",
     "text": [
      "-rw-r--r-- 1 1000 1000 561825 Mar 17  2021 test/farfield/manifest.jsonl\n"
     ]
    }
   ],
   "source": [
    "!ls -la test/farfield/manifest.jsonl"
   ]
  },
  {
   "cell_type": "code",
   "execution_count": 13,
   "metadata": {
    "colab": {
     "base_uri": "https://localhost:8080/"
    },
    "id": "JK0e9ueQ0PFv",
    "outputId": "3b5a5416-e5f9-4d94-fd5d-b3d9fab07333"
   },
   "outputs": [
    {
     "data": {
      "text/plain": [
       "('/content/test/farfield/farfield.jsonl', '/content/train/manifest.jsonl')"
      ]
     },
     "execution_count": 13,
     "metadata": {},
     "output_type": "execute_result"
    }
   ],
   "source": [
    "test_manifest, train_manifest"
   ]
  },
  {
   "cell_type": "code",
   "execution_count": 14,
   "metadata": {
    "colab": {
     "base_uri": "https://localhost:8080/"
    },
    "id": "33SEaWgW1k70",
    "outputId": "9ce3255c-225e-4145-f63c-49ef81356b36"
   },
   "outputs": [
    {
     "name": "stdout",
     "output_type": "stream",
     "text": [
      "{\"id\": \"58b586f67f5e634506e215df5996b82e\", \"audio_filepath\": \"/content/test/farfield/files/58b586f67f5e634506e215df5996b82e.wav\", \"text\": \"\\u0434\\u0436\\u043e\\u0439 \\u0445\\u0432\\u0430\\u0442\\u0438\\u0442\", \"duration\": 1.696625}\n",
      "{\"id\": \"26093ef7a8c5ec6a3c586a6a929c1bd3\", \"audio_filepath\": \"/content/test/farfield/files/26093ef7a8c5ec6a3c586a6a929c1bd3.wav\", \"text\": \"\\u0441\\u0430\\u043b\\u044e\\u0442 \\u0432\\u044b\\u0437\\u043e\\u0432 \\u0441\\u0432\\u0435\\u0442\\u043b\\u0430\\u043d\\u0435 \\u0432\\u0430\\u0441\\u0438\\u043b\\u044c\\u0435\\u0432\\u043d\\u0435 \\u043d\\u0438\\u043a\\u043e\\u043b\\u0435\\u043d\\u043a\\u043e\", \"duration\": 3.1720625}\n",
      "{\"id\": \"b42d13ab3dc159fac39a1120e8011f66\", \"audio_filepath\": \"/content/test/farfield/files/b42d13ab3dc159fac39a1120e8011f66.wav\", \"text\": \"\\u0441\\u0430\\u043b\\u044e\\u0442 \\u0445\\u0432\\u0430\\u0442\\u0438\\u0442\", \"duration\": 1.5226875}\n",
      "{\"id\": \"7e55843e745a239b35212e2caba77239\", \"audio_filepath\": \"/content/test/farfield/files/7e55843e745a239b35212e2caba77239.wav\", \"text\": \"\\u0434\\u0436\\u043e\\u0439 \\u0437\\u0432\\u043e\\u043d\\u043e\\u043a \\u044e\\u0440\\u0438\\u044e \\u0438\\u0432\\u0430\\u043d\\u043e\\u0432\\u0438\\u0447\\u0443 \\u0446\\u0430\\u0440\\u044c\\u043a\\u043e\\u0432\\u0443\", \"duration\": 3.0640625}\n",
      "{\"id\": \"a0c621e2819a3747e42d05940aab0446\", \"audio_filepath\": \"/content/test/farfield/files/a0c621e2819a3747e42d05940aab0446.wav\", \"text\": \"\\u0434\\u0436\\u043e\\u0439 \\u0432\\u044b\\u0439\\u0442\\u0438 \\u0438\\u0437 \\u0441\\u0446\\u0435\\u043d\\u0430\\u0440\\u0438\\u044f\", \"duration\": 2.31475}\n",
      "{\"id\": \"f293e3548bd266460c8ea6ac1fb76478\", \"audio_filepath\": \"/content/test/farfield/files/f293e3548bd266460c8ea6ac1fb76478.wav\", \"text\": \"\\u0441\\u0430\\u043b\\u044e\\u0442 \\u0432\\u044b\\u0439\\u0442\\u0438\", \"duration\": 1.310125}\n",
      "{\"id\": \"b3fc5f249351a9087ffedc0a34385463\", \"audio_filepath\": \"/content/test/farfield/files/b3fc5f249351a9087ffedc0a34385463.wav\", \"text\": \"\\u0441\\u0430\\u043b\\u044e\\u0442 \\u0437\\u0430\\u043a\\u0440\\u043e\\u0439\\u0441\\u044f\", \"duration\": 1.9009375}\n",
      "{\"id\": \"ee2144d4bc00e96131a9bef5c74edd97\", \"audio_filepath\": \"/content/test/farfield/files/ee2144d4bc00e96131a9bef5c74edd97.wav\", \"text\": \"\\u0441\\u0430\\u043b\\u044e\\u0442 \\u043d\\u0430\\u0431\\u0435\\u0440\\u0438 \\u0434\\u0430\\u043d\\u0438\\u043b\\u043e\\u0432\\u0430\", \"duration\": 1.8129375}\n",
      "{\"id\": \"94f4ad577967f9f61d5d88cd92b1339c\", \"audio_filepath\": \"/content/test/farfield/files/94f4ad577967f9f61d5d88cd92b1339c.wav\", \"text\": \"\\u0441\\u0431\\u0435\\u0440 \\u043c\\u043d\\u0435 \\u043d\\u0440\\u0430\\u0432\\u0438\\u0442\\u0441\\u044f\", \"duration\": 1.9945}\n",
      "{\"id\": \"a97958419827c57069bc3550c4353eb9\", \"audio_filepath\": \"/content/test/farfield/files/a97958419827c57069bc3550c4353eb9.wav\", \"text\": \"\\u0441\\u0430\\u043b\\u044e\\u0442 \\u043f\\u0440\\u0435\\u043a\\u0440\\u0430\\u0442\\u0438\", \"duration\": 1.4965}\n"
     ]
    }
   ],
   "source": [
    "! head /content/test/farfield/farfield.jsonl"
   ]
  },
  {
   "cell_type": "code",
   "execution_count": 15,
   "metadata": {
    "colab": {
     "base_uri": "https://localhost:8080/"
    },
    "id": "4iT9YH0kzlZv",
    "outputId": "83a6f92f-3108-4a87-f939-c14a04d3ea9f"
   },
   "outputs": [
    {
     "name": "stdout",
     "output_type": "stream",
     "text": [
      "{\"id\": \"855e01d6ba9a4aa59950d62037b87709\", \"audio_filepath\": \"/content/train/farfield/855e01d6ba9a4aa59950d62037b87709.wav\", \"text\": \"\\u0430\\u0444\\u0438\\u043d\\u0430 \\u0445\\u043e\\u0442\\u0435\\u043b\\u0430 \\u043d\\u043e\\u043c\\u0435\\u0440 \\u0442\\u0435\\u043b\\u0435\\u0444\\u043e\\u043d\\u0430 \\u043f\\u043e\\u043c\\u0435\\u043d\\u044f\\u0442\\u044c \\u043a\\u0430\\u0440\\u0442\\u044b\", \"duration\": 5.4596875}\n",
      "{\"id\": \"f6075fae0c592183f107cf781117d9b5\", \"audio_filepath\": \"/content/train/farfield/f6075fae0c592183f107cf781117d9b5.wav\", \"text\": \"\\u0441\\u0430\\u043b\\u044e\\u0442 \\u0445\\u043e\\u0447\\u0443 \\u043f\\u043e\\u0433\\u043e\\u0432\\u043e\\u0440\\u0438\\u0442\\u044c \\u0441 \\u0434\\u0436\\u043e\\u0439\", \"duration\": 4.15125}\n",
      "{\"id\": \"2599a6cb55795b38ddd80b849d8670bc\", \"audio_filepath\": \"/content/train/farfield/2599a6cb55795b38ddd80b849d8670bc.wav\", \"text\": \"\\u0434\\u0436\\u043e\\u0439 \\u043a\\u0430\\u043a\\u0430\\u044f \\u0432\\u0430\\u043b\\u044e\\u0442\\u0430 \\u0432 \\u043a\\u0430\\u043c\\u0431\\u043e\\u0434\\u0436\\u0435\", \"duration\": 3.9185625}\n",
      "{\"id\": \"5f7483035b2f26b773b0d3fb125b779d\", \"audio_filepath\": \"/content/train/farfield/5f7483035b2f26b773b0d3fb125b779d.wav\", \"text\": \"\\u0441\\u0430\\u043b\\u044e\\u0442 \\u044f \\u043c\\u043e\\u0433\\u0443 \\u0447\\u0442\\u043e \\u043d\\u0438\\u0431\\u0443\\u0434\\u044c \\u0441\\u0434\\u0435\\u043b\\u0430\\u0442\\u044c\", \"duration\": 5.063625}\n",
      "{\"id\": \"4c95a12b71e1262ac937d2fe6a803906\", \"audio_filepath\": \"/content/train/farfield/4c95a12b71e1262ac937d2fe6a803906.wav\", \"text\": \"\\u0434\\u0436\\u043e\\u0439 \\u0441\\u043c\\u043e\\u0442\\u0440\\u0435\\u0442\\u044c \\u043e\\u043f\\u0435\\u0440\\u0430\\u0446\\u0438\\u044e \\u044b \\u0438 \\u0434\\u0440\\u0443\\u0433\\u0438\\u0435 \\u043f\\u0440\\u0438\\u043a\\u043b\\u044e\\u0447\\u0435\\u043d\\u0438\\u044f \\u0448\\u0443\\u0440\\u0438\\u043a\\u0430 \\u043e\\u043d\\u043b\\u0430\\u0439\\u043d\", \"duration\": 7.3826875}\n",
      "{\"id\": \"90655e9a042c4e79c424cd7dd82b37a6\", \"audio_filepath\": \"/content/train/farfield/90655e9a042c4e79c424cd7dd82b37a6.wav\", \"text\": \"\\u0441\\u0430\\u043b\\u044e\\u0442 \\u043d\\u0430 \\u043a\\u0430\\u043a\\u043e\\u043c \\u044f\\u0437\\u044b\\u043a\\u0435 \\u0441\\u043e\\u0437\\u0434\\u0430\\u043d\\u0430 \\u043a\\u0430\\u0432\\u043a\\u0430 \\u043d\\u0430 \\u043f\\u043b\\u044f\\u0436\\u0435\", \"duration\": 5.232625}\n",
      "{\"id\": \"14b5e99616d446c3887c8927403632a0\", \"audio_filepath\": \"/content/train/farfield/14b5e99616d446c3887c8927403632a0.wav\", \"text\": \"\\u0441\\u0431\\u0435\\u0440 \\u0447\\u0435\\u043c \\u043f\\u043b\\u0430\\u0442\\u0438\\u0442\\u044c \\u043d\\u0430 \\u043a\\u0430\\u043d\\u0430\\u0440\\u0430\\u0445\", \"duration\": 4.524}\n",
      "{\"id\": \"d71107319855ef21249be2ab0edea9c2\", \"audio_filepath\": \"/content/train/farfield/d71107319855ef21249be2ab0edea9c2.wav\", \"text\": \"\\u0430\\u0444\\u0438\\u043d\\u0430 \\u043d\\u0430 \\u043f\\u0430\\u0440\\u0443 \\u043c\\u0438\\u043d\\u0443\\u0442 \\u043f\\u0435\\u0440\\u0435\\u043c\\u043e\\u0442\\u0430\\u0439 \\u0432\\u043f\\u0435\\u0440\\u0435\\u0434\", \"duration\": 4.4630625}\n",
      "{\"id\": \"566e4f7d788d755e2fa76ab57837d7dd\", \"audio_filepath\": \"/content/train/farfield/566e4f7d788d755e2fa76ab57837d7dd.wav\", \"text\": \"\\u0430\\u0444\\u0438\\u043d\\u0430 \\u043f\\u043b\\u043e\\u0449\\u0430\\u0434\\u044c \\u043a\\u043e\\u0440\\u043e\\u043b\\u0435\\u0432\\u0441\\u0442\\u0432\\u0430 \\u0442\\u043e\\u043d\\u0433\\u0430\", \"duration\": 4.75025}\n",
      "{\"id\": \"40bf19adace8d787cd3c63784ed0b27b\", \"audio_filepath\": \"/content/train/farfield/40bf19adace8d787cd3c63784ed0b27b.wav\", \"text\": \"\\u0430\\u0444\\u0438\\u043d\\u0430 \\u0447\\u0442\\u043e \\u0442\\u0430\\u043a\\u043e\\u0435 \\u0434\\u0435\\u043b\\u0444\\u0442\", \"duration\": 3.74225}\n"
     ]
    }
   ],
   "source": [
    "! head /content/train/manifest.jsonl"
   ]
  },
  {
   "cell_type": "markdown",
   "metadata": {
    "id": "Hccv8kQ0m4v5"
   },
   "source": [
    "# Обучение Модели"
   ]
  },
  {
   "cell_type": "markdown",
   "metadata": {
    "id": "U0psSOJwYD64"
   },
   "source": [
    "## Загрузка предобученной модели"
   ]
  },
  {
   "cell_type": "code",
   "execution_count": 16,
   "metadata": {
    "colab": {
     "base_uri": "https://localhost:8080/"
    },
    "id": "i7_ckyVefRrN",
    "outputId": "d761db0f-8ed2-4171-8802-a63044f460a0"
   },
   "outputs": [
    {
     "name": "stderr",
     "output_type": "stream",
     "text": [
      "[NeMo W 2021-11-30 05:18:20 optimizers:50] Apex was not found. Using the lamb or fused_adam optimizer will error out.\n",
      "################################################################################\n",
      "### WARNING, path does not exist: KALDI_ROOT=/mnt/matylda5/iveselyk/Tools/kaldi-trunk\n",
      "###          (please add 'export KALDI_ROOT=<your_path>' in your $HOME/.profile)\n",
      "###          (or run as: KALDI_ROOT=<your_path> python <your_script>.py)\n",
      "################################################################################\n",
      "\n"
     ]
    }
   ],
   "source": [
    "# NeMo's \"core\" package\n",
    "import nemo\n",
    "# NeMo's ASR collection - this collections contains complete ASR models and\n",
    "# building blocks (modules) for ASR\n",
    "import nemo.collections.asr as nemo_asr"
   ]
  },
  {
   "cell_type": "code",
   "execution_count": 17,
   "metadata": {
    "colab": {
     "base_uri": "https://localhost:8080/"
    },
    "id": "ufIWOuaXfRtc",
    "outputId": "affa3f9e-7011-417a-ad54-e13577932dcf"
   },
   "outputs": [
    {
     "name": "stdout",
     "output_type": "stream",
     "text": [
      "Dataset downloaded at: /content/QuartzNet15x5_golos.nemo\n"
     ]
    },
    {
     "name": "stderr",
     "output_type": "stream",
     "text": [
      "[NeMo W 2021-11-30 05:18:32 modelPT:131] If you intend to do training or fine-tuning, please call the ModelPT.setup_training_data() method and provide a valid configuration file to setup the train data loader.\n",
      "    Train config : \n",
      "    manifest_filepath: train/golos_and_mcv.jsonl\n",
      "    sample_rate: 16000\n",
      "    labels:\n",
      "    - ' '\n",
      "    - а\n",
      "    - б\n",
      "    - в\n",
      "    - г\n",
      "    - д\n",
      "    - е\n",
      "    - ж\n",
      "    - з\n",
      "    - и\n",
      "    - й\n",
      "    - к\n",
      "    - л\n",
      "    - м\n",
      "    - н\n",
      "    - о\n",
      "    - п\n",
      "    - р\n",
      "    - с\n",
      "    - т\n",
      "    - у\n",
      "    - ф\n",
      "    - х\n",
      "    - ц\n",
      "    - ч\n",
      "    - ш\n",
      "    - щ\n",
      "    - ъ\n",
      "    - ы\n",
      "    - ь\n",
      "    - э\n",
      "    - ю\n",
      "    - я\n",
      "    batch_size: 64\n",
      "    trim_silence: false\n",
      "    max_duration: 20.0\n",
      "    min_duration: 0.1\n",
      "    num_workers: 20\n",
      "    shuffle: true\n",
      "    is_tarred: false\n",
      "    tarred_audio_filepaths: null\n",
      "    tarred_shard_strategy: scatter\n",
      "    parser: ru\n",
      "    \n",
      "[NeMo W 2021-11-30 05:18:32 modelPT:138] If you intend to do validation, please call the ModelPT.setup_validation_data() or ModelPT.setup_multiple_validation_data() method and provide a valid configuration file to setup the validation data loader(s). \n",
      "    Validation config : \n",
      "    manifest_filepath:\n",
      "    - test/mcv/dev_ru.jsonl\n",
      "    - test/mcv/test_ru.jsonl\n",
      "    - test/crowd/crowd.jsonl\n",
      "    - test/farfield/farfield.jsonl\n",
      "    sample_rate: 16000\n",
      "    labels:\n",
      "    - ' '\n",
      "    - а\n",
      "    - б\n",
      "    - в\n",
      "    - г\n",
      "    - д\n",
      "    - е\n",
      "    - ж\n",
      "    - з\n",
      "    - и\n",
      "    - й\n",
      "    - к\n",
      "    - л\n",
      "    - м\n",
      "    - н\n",
      "    - о\n",
      "    - п\n",
      "    - р\n",
      "    - с\n",
      "    - т\n",
      "    - у\n",
      "    - ф\n",
      "    - х\n",
      "    - ц\n",
      "    - ч\n",
      "    - ш\n",
      "    - щ\n",
      "    - ъ\n",
      "    - ы\n",
      "    - ь\n",
      "    - э\n",
      "    - ю\n",
      "    - я\n",
      "    batch_size: 64\n",
      "    num_workers: 20\n",
      "    shuffle: false\n",
      "    parser: ru\n",
      "    \n",
      "[NeMo W 2021-11-30 05:18:32 modelPT:144] Please call the ModelPT.setup_test_data() or ModelPT.setup_multiple_test_data() method and provide a valid configuration file to setup the test data loader(s).\n",
      "    Test config : \n",
      "    manifest_filepath: test/mcv/test_ru.jsonl\n",
      "    sample_rate: 16000\n",
      "    labels:\n",
      "    - ' '\n",
      "    - а\n",
      "    - б\n",
      "    - в\n",
      "    - г\n",
      "    - д\n",
      "    - е\n",
      "    - ж\n",
      "    - з\n",
      "    - и\n",
      "    - й\n",
      "    - к\n",
      "    - л\n",
      "    - м\n",
      "    - н\n",
      "    - о\n",
      "    - п\n",
      "    - р\n",
      "    - с\n",
      "    - т\n",
      "    - у\n",
      "    - ф\n",
      "    - х\n",
      "    - ц\n",
      "    - ч\n",
      "    - ш\n",
      "    - щ\n",
      "    - ъ\n",
      "    - ы\n",
      "    - ь\n",
      "    - э\n",
      "    - ю\n",
      "    - я\n",
      "    batch_size: 64\n",
      "    shuffle: false\n",
      "    parser: ru\n",
      "    \n"
     ]
    },
    {
     "name": "stdout",
     "output_type": "stream",
     "text": [
      "[NeMo I 2021-11-30 05:18:32 features:265] PADDING: 16\n",
      "[NeMo I 2021-11-30 05:18:32 features:282] STFT using torch\n",
      "[NeMo I 2021-11-30 05:18:50 save_restore_connector:149] Model EncDecCTCModel was successfully restored from /content/QuartzNet15x5_golos.nemo.\n"
     ]
    }
   ],
   "source": [
    "load(\"https://sc.link/ZMv\", \"QuartzNet15x5_golos.nemo\")\n",
    "asr_model = nemo_asr.models.EncDecCTCModel.restore_from(os.path.join(data_dir, \"QuartzNet15x5_golos.nemo\"))"
   ]
  },
  {
   "cell_type": "markdown",
   "metadata": {
    "id": "KIZxnnEN8dhi"
   },
   "source": [
    "## Получение данных о записях"
   ]
  },
  {
   "cell_type": "code",
   "execution_count": 24,
   "metadata": {
    "id": "pQCFk09u9qJn"
   },
   "outputs": [],
   "source": [
    "files = []\n",
    "texts = []\n",
    "ids = []\n",
    "with open(train_manifest, 'r') as fin:\n",
    "  for line in fin:\n",
    "    metadata = json.loads(line)\n",
    "    files.append(metadata['audio_filepath'])\n",
    "    texts.append(metadata['text'])\n",
    "    ids.append(metadata['id'])\n",
    "# files = [data_dir + \"/test/crowd/files/e632f7d39c15e7edfc665b91e6f2071f.wav\",\n",
    "#          data_dir + \"/test/crowd/files/5db5df8bb9e3b6660b2a04b34d4a355d.wav\"]"
   ]
  },
  {
   "cell_type": "code",
   "execution_count": 25,
   "metadata": {
    "colab": {
     "base_uri": "https://localhost:8080/"
    },
    "id": "8rtsEtSTKg10",
    "outputId": "5513efb7-2ae8-4256-cb40-7b03af1010dd"
   },
   "outputs": [
    {
     "data": {
      "text/plain": [
       "['/content/train/farfield/855e01d6ba9a4aa59950d62037b87709.wav',\n",
       " '/content/train/farfield/f6075fae0c592183f107cf781117d9b5.wav',\n",
       " '/content/train/farfield/2599a6cb55795b38ddd80b849d8670bc.wav',\n",
       " '/content/train/farfield/5f7483035b2f26b773b0d3fb125b779d.wav',\n",
       " '/content/train/farfield/4c95a12b71e1262ac937d2fe6a803906.wav']"
      ]
     },
     "execution_count": 25,
     "metadata": {},
     "output_type": "execute_result"
    }
   ],
   "source": [
    "files[:5]"
   ]
  },
  {
   "cell_type": "code",
   "execution_count": 26,
   "metadata": {
    "colab": {
     "base_uri": "https://localhost:8080/"
    },
    "id": "b86QAfo0Ki6w",
    "outputId": "b00cbf1b-e052-48e2-a337-c763d6e2a49c"
   },
   "outputs": [
    {
     "data": {
      "text/plain": [
       "['афина хотела номер телефона поменять карты',\n",
       " 'салют хочу поговорить с джой',\n",
       " 'джой какая валюта в камбодже',\n",
       " 'салют я могу что нибудь сделать',\n",
       " 'джой смотреть операцию ы и другие приключения шурика онлайн']"
      ]
     },
     "execution_count": 26,
     "metadata": {},
     "output_type": "execute_result"
    }
   ],
   "source": [
    "texts[:5]"
   ]
  },
  {
   "cell_type": "code",
   "execution_count": 27,
   "metadata": {
    "colab": {
     "base_uri": "https://localhost:8080/",
     "height": 61
    },
    "id": "lLQyEaEnhF-3",
    "outputId": "5678a23e-bfef-4462-cc45-8593a20e70f2"
   },
   "outputs": [
    {
     "data": {
      "text/html": [
       "\n",
       "                <audio controls=\"controls\" >\n",
       "                    <source src=\"data:audio/x-wav;base64,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\" type=\"audio/x-wav\" />\n",
       "                    Your browser does not support the audio element.\n",
       "                </audio>\n",
       "              "
      ],
      "text/plain": [
       "<IPython.lib.display.Audio object>"
      ]
     },
     "execution_count": 27,
     "metadata": {},
     "output_type": "execute_result"
    }
   ],
   "source": [
    "import librosa\n",
    "import IPython.display as ipd\n",
    "\n",
    "# Load and listen to the audio file\n",
    "example_file = '/content/train/farfield/4c95a12b71e1262ac937d2fe6a803906.wav'\n",
    "\n",
    "audio, sample_rate = librosa.load(example_file)\n",
    "ipd.Audio(example_file, rate=sample_rate)"
   ]
  },
  {
   "cell_type": "markdown",
   "metadata": {
    "id": "GQ7cFuAC8mw6"
   },
   "source": [
    "## Получение предсказаний"
   ]
  },
  {
   "cell_type": "code",
   "execution_count": 28,
   "metadata": {
    "colab": {
     "base_uri": "https://localhost:8080/",
     "height": 161,
     "referenced_widgets": [
      "40c15662a19d431db7303081e238fef9",
      "4a0cc73caa2845f0aa082e5689533a4e",
      "3a2a0558e387415b9fabfdd69d70c474",
      "8f78a2279c724fdaaa0a64e1da823546",
      "b1e5cb11ac114a6ea49ecd743f93be8e",
      "f97f0617f5dd4b2bb24a1c5a4b318045",
      "a6ed4f2f4f684c44a3c0104703ec63d2",
      "5dca4877523147e5b2f8c40887496678",
      "2c3d2b2a1ff340e6a9e26f82af215200",
      "20fd68ca05cb40d4a92e66ef085bfbfb",
      "6352f06c89ce4aea93ba96d232f73c57"
     ]
    },
    "id": "9PsqoaM3fRv3",
    "outputId": "80903f44-1fdf-437b-d324-f1f548fc42c0"
   },
   "outputs": [
    {
     "data": {
      "application/vnd.jupyter.widget-view+json": {
       "model_id": "40c15662a19d431db7303081e238fef9",
       "version_major": 2,
       "version_minor": 0
      },
      "text/plain": [
       "Transcribing:   0%|          | 0/31000 [00:00<?, ?it/s]"
      ]
     },
     "metadata": {},
     "output_type": "display_data"
    },
    {
     "name": "stderr",
     "output_type": "stream",
     "text": [
      "[NeMo W 2021-11-30 05:22:40 patch_utils:50] torch.stft() signature has been updated for PyTorch 1.7+\n",
      "    Please update PyTorch to remain compatible with later versions of NeMo.\n",
      "[NeMo W 2021-11-30 05:22:41 nemo_logging:349] /usr/local/lib/python3.7/dist-packages/nemo/collections/asr/parts/submodules/jasper.py:280: UserWarning: __floordiv__ is deprecated, and its behavior will change in a future version of pytorch. It currently rounds toward 0 (like the 'trunc' function NOT 'floor'). This results in incorrect rounding for negative values. To keep the current behavior, use torch.div(a, b, rounding_mode='trunc'), or for actual floor division, use torch.div(a, b, rounding_mode='floor').\n",
      "      ) // self.conv.stride[0] + 1\n",
      "    \n"
     ]
    }
   ],
   "source": [
    "transcriptions = asr_model.transcribe(paths2audio_files=files)"
   ]
  },
  {
   "cell_type": "code",
   "execution_count": 29,
   "metadata": {
    "colab": {
     "base_uri": "https://localhost:8080/"
    },
    "id": "nB1ELiutR_M6",
    "outputId": "4f4e1e5f-8481-482f-87a2-9ac47dcadc8f"
   },
   "outputs": [
    {
     "data": {
      "text/plain": [
       "['/content/train/farfield/855e01d6ba9a4aa59950d62037b87709.wav',\n",
       " '/content/train/farfield/f6075fae0c592183f107cf781117d9b5.wav',\n",
       " '/content/train/farfield/2599a6cb55795b38ddd80b849d8670bc.wav',\n",
       " '/content/train/farfield/5f7483035b2f26b773b0d3fb125b779d.wav',\n",
       " '/content/train/farfield/4c95a12b71e1262ac937d2fe6a803906.wav',\n",
       " '/content/train/farfield/90655e9a042c4e79c424cd7dd82b37a6.wav',\n",
       " '/content/train/farfield/14b5e99616d446c3887c8927403632a0.wav',\n",
       " '/content/train/farfield/d71107319855ef21249be2ab0edea9c2.wav',\n",
       " '/content/train/farfield/566e4f7d788d755e2fa76ab57837d7dd.wav',\n",
       " '/content/train/farfield/40bf19adace8d787cd3c63784ed0b27b.wav']"
      ]
     },
     "execution_count": 29,
     "metadata": {},
     "output_type": "execute_result"
    }
   ],
   "source": [
    "files[:10]"
   ]
  },
  {
   "cell_type": "code",
   "execution_count": 30,
   "metadata": {
    "colab": {
     "base_uri": "https://localhost:8080/"
    },
    "id": "4FDsy9yqRhNP",
    "outputId": "39d8d3cc-f957-4eb5-d2cc-300e118db038"
   },
   "outputs": [
    {
     "data": {
      "text/plain": [
       "['афина хотела номер телефона поменять карты',\n",
       " 'салют хочу поговорить с джой',\n",
       " 'джой какая валюта в камбодже',\n",
       " 'салют я могу что нибудь сделать',\n",
       " 'джой смотреть операцию ы и другие приключения шурика онлайн',\n",
       " 'салют на каком языке создана кавка на пляже',\n",
       " 'сбер чем платить на канарах',\n",
       " 'афина на пару минут перемотай вперед',\n",
       " 'афина площадь королевства тонга',\n",
       " 'афина что такое делфт']"
      ]
     },
     "execution_count": 30,
     "metadata": {},
     "output_type": "execute_result"
    }
   ],
   "source": [
    "texts[:10]"
   ]
  },
  {
   "cell_type": "code",
   "execution_count": 31,
   "metadata": {
    "colab": {
     "base_uri": "https://localhost:8080/"
    },
    "id": "MSGjFRZKR8fn",
    "outputId": "08679cdf-9eb3-4c23-cb79-d9a9b6e9fc81"
   },
   "outputs": [
    {
     "data": {
      "text/plain": [
       "['афина хотела номер телефона поменять карты',\n",
       " 'салют хочу поговорить с джой',\n",
       " 'джой какая валюта в камбодже',\n",
       " 'салют я могу что нибудь сделать',\n",
       " 'джой смотреть операцию ы и другие приключения шурика онлайн',\n",
       " 'салют на каком языке создана кавка на пляже',\n",
       " 'сбер чем платить на канарах',\n",
       " 'афина на пару минут перемотай вперед',\n",
       " 'афина площадь королевства тонга',\n",
       " 'афина что такое делфт']"
      ]
     },
     "execution_count": 31,
     "metadata": {},
     "output_type": "execute_result"
    }
   ],
   "source": [
    "transcriptions[:10]"
   ]
  },
  {
   "cell_type": "markdown",
   "metadata": {
    "id": "hzuGoofyVzvw"
   },
   "source": [
    "## Обзор ошибок"
   ]
  },
  {
   "cell_type": "code",
   "execution_count": 32,
   "metadata": {
    "colab": {
     "base_uri": "https://localhost:8080/"
    },
    "id": "0WoCrabGV1ob",
    "outputId": "64ac95c7-45e4-43eb-cfa6-38d80031e04a"
   },
   "outputs": [
    {
     "name": "stdout",
     "output_type": "stream",
     "text": [
      "Collecting jiwer\n",
      "  Downloading jiwer-2.3.0-py3-none-any.whl (15 kB)\n",
      "Collecting python-Levenshtein==0.12.2\n",
      "  Downloading python-Levenshtein-0.12.2.tar.gz (50 kB)\n",
      "\u001b[K     |████████████████████████████████| 50 kB 2.8 MB/s \n",
      "\u001b[?25hRequirement already satisfied: setuptools in /usr/local/lib/python3.7/dist-packages (from python-Levenshtein==0.12.2->jiwer) (57.4.0)\n",
      "Building wheels for collected packages: python-Levenshtein\n",
      "  Building wheel for python-Levenshtein (setup.py) ... \u001b[?25l\u001b[?25hdone\n",
      "  Created wheel for python-Levenshtein: filename=python_Levenshtein-0.12.2-cp37-cp37m-linux_x86_64.whl size=149867 sha256=d884e25db536b596d9a636650513b1ce6dd70ebd5922a79573b43b54d495fd81\n",
      "  Stored in directory: /root/.cache/pip/wheels/05/5f/ca/7c4367734892581bb5ff896f15027a932c551080b2abd3e00d\n",
      "Successfully built python-Levenshtein\n",
      "Installing collected packages: python-Levenshtein, jiwer\n",
      "Successfully installed jiwer-2.3.0 python-Levenshtein-0.12.2\n",
      "Requirement already satisfied: python-Levenshtein in /usr/local/lib/python3.7/dist-packages (0.12.2)\n",
      "Requirement already satisfied: setuptools in /usr/local/lib/python3.7/dist-packages (from python-Levenshtein) (57.4.0)\n"
     ]
    }
   ],
   "source": [
    "!pip install jiwer\n",
    "!pip install python-Levenshtein"
   ]
  },
  {
   "cell_type": "code",
   "execution_count": 33,
   "metadata": {
    "id": "D5HEJUx9a7Jg"
   },
   "outputs": [],
   "source": [
    "from jiwer import wer\n",
    "from Levenshtein import ratio"
   ]
  },
  {
   "cell_type": "code",
   "execution_count": 34,
   "metadata": {
    "colab": {
     "base_uri": "https://localhost:8080/"
    },
    "id": "CHCh1I43jjw1",
    "outputId": "25dae604-a36a-49ad-9091-336984760a97"
   },
   "outputs": [
    {
     "data": {
      "text/plain": [
       "(123999, 123999)"
      ]
     },
     "execution_count": 34,
     "metadata": {},
     "output_type": "execute_result"
    }
   ],
   "source": [
    "len(texts), len(files)"
   ]
  },
  {
   "cell_type": "code",
   "execution_count": 35,
   "metadata": {
    "id": "FYAeMtnrV40E"
   },
   "outputs": [],
   "source": [
    "import nltk\n",
    "WER = []\n",
    "LEV = []\n",
    "RAT = []\n",
    "# SUB = []\n",
    "# INS = []\n",
    "# DEL = []\n",
    "for i in range(len(texts)):\n",
    "  try:\n",
    "    WER.append(wer(texts[i], transcriptions[i]))\n",
    "    LEV.append(nltk.edit_distance(texts[i], transcriptions[i]))\n",
    "    RAT.append(ratio(texts[i], transcriptions[i]))\n",
    "  except:\n",
    "    WER.append(None)\n",
    "    LEV.append(nltk.edit_distance(texts[i], transcriptions[i]))\n",
    "    RAT.append(ratio(texts[i], transcriptions[i]))"
   ]
  },
  {
   "cell_type": "code",
   "execution_count": 36,
   "metadata": {
    "colab": {
     "base_uri": "https://localhost:8080/"
    },
    "id": "an0FyHOqm8Dp",
    "outputId": "92ae5ac4-6778-41b6-e861-7858b4d81564"
   },
   "outputs": [
    {
     "data": {
      "text/plain": [
       "(['афина хотела номер телефона поменять карты',\n",
       "  'салют хочу поговорить с джой',\n",
       "  'джой какая валюта в камбодже',\n",
       "  'салют я могу что нибудь сделать',\n",
       "  'джой смотреть операцию ы и другие приключения шурика онлайн'],\n",
       " ['афина хотела номер телефона поменять карты',\n",
       "  'салют хочу поговорить с джой',\n",
       "  'джой какая валюта в камбодже',\n",
       "  'салют я могу что нибудь сделать',\n",
       "  'джой смотреть операцию ы и другие приключения шурика онлайн'],\n",
       " ['/content/train/farfield/855e01d6ba9a4aa59950d62037b87709.wav',\n",
       "  '/content/train/farfield/f6075fae0c592183f107cf781117d9b5.wav',\n",
       "  '/content/train/farfield/2599a6cb55795b38ddd80b849d8670bc.wav',\n",
       "  '/content/train/farfield/5f7483035b2f26b773b0d3fb125b779d.wav',\n",
       "  '/content/train/farfield/4c95a12b71e1262ac937d2fe6a803906.wav'])"
      ]
     },
     "execution_count": 36,
     "metadata": {},
     "output_type": "execute_result"
    }
   ],
   "source": [
    "texts[:5], transcriptions[:5], files[:5]"
   ]
  },
  {
   "cell_type": "code",
   "execution_count": 37,
   "metadata": {
    "id": "nR6R-vu7aFQK"
   },
   "outputs": [],
   "source": [
    "import pandas as pd\n",
    "\n",
    "results = pd.DataFrame()\n",
    "results['id'] = ids\n",
    "results['true'] = texts\n",
    "results['pred'] = transcriptions\n",
    "results['file'] = files\n",
    "results['WER'] = WER\n",
    "results['LEV'] = LEV\n",
    "results['RAT'] = RAT\n",
    "\n",
    "# test_results['SUB'] = SUB\n",
    "# test_results['INS'] = INS\n",
    "# test_results['DEL'] = DEL"
   ]
  },
  {
   "cell_type": "code",
   "execution_count": 42,
   "metadata": {
    "colab": {
     "base_uri": "https://localhost:8080/"
    },
    "id": "PR8iAUtGAcM3",
    "outputId": "1d0b1518-3640-48c2-e6f6-0cd33798ce6b"
   },
   "outputs": [
    {
     "data": {
      "text/plain": [
       "array(['/content/train/farfield/d24e697c7c381de1f0ba49bf6daf2da7.wav'],\n",
       "      dtype=object)"
      ]
     },
     "execution_count": 42,
     "metadata": {},
     "output_type": "execute_result"
    }
   ],
   "source": [
    "results[results['id'] == 'd24e697c7c381de1f0ba49bf6daf2da7'].file.values"
   ]
  },
  {
   "cell_type": "code",
   "execution_count": 43,
   "metadata": {
    "colab": {
     "base_uri": "https://localhost:8080/",
     "height": 36
    },
    "id": "5QBnDhHAfFcO",
    "outputId": "d18c9875-65cf-475a-8935-7c4c6a9bad28"
   },
   "outputs": [
    {
     "data": {
      "application/vnd.google.colaboratory.intrinsic+json": {
       "type": "string"
      },
      "text/plain": [
       "'/content/train/farfield/ef104f705011ef2d10f4403dd9dc09e3.wav'"
      ]
     },
     "execution_count": 43,
     "metadata": {},
     "output_type": "execute_result"
    }
   ],
   "source": [
    "results.loc[107923].file"
   ]
  },
  {
   "cell_type": "code",
   "execution_count": 44,
   "metadata": {
    "colab": {
     "base_uri": "https://localhost:8080/",
     "height": 142,
     "referenced_widgets": [
      "59ccd55c260f40438cc4809770a2b03b",
      "19f3762a5dd4478a99a5526577a07a73",
      "0f42a8c2a3e149969ea10e36db06cb85",
      "d6bb06fa5afd4a0b950853a7a1db1dcc",
      "ae6b5fd9888a492d94703331f3e30810",
      "4470b09d5ab74b459244061fefc19fc2",
      "4799e08eba144ad680fd44dc2c28f839",
      "83977bfbace44d34b0c7991089947a3f",
      "76321425b2dc4402a87e741f4af15a91",
      "4d483380414c4405abc9b4046e053020",
      "d54851e149664caeb4f0644cb2bad843"
     ]
    },
    "id": "FH4FU3y6ni7u",
    "outputId": "7b3ded7a-02a4-42db-9632-12a471573624"
   },
   "outputs": [
    {
     "data": {
      "application/vnd.jupyter.widget-view+json": {
       "model_id": "59ccd55c260f40438cc4809770a2b03b",
       "version_major": 2,
       "version_minor": 0
      },
      "text/plain": [
       "Transcribing:   0%|          | 0/1 [00:00<?, ?it/s]"
      ]
     },
     "metadata": {},
     "output_type": "display_data"
    },
    {
     "name": "stderr",
     "output_type": "stream",
     "text": [
      "[NeMo W 2021-11-30 06:23:00 nemo_logging:349] /usr/local/lib/python3.7/dist-packages/nemo/collections/asr/parts/submodules/jasper.py:280: UserWarning: __floordiv__ is deprecated, and its behavior will change in a future version of pytorch. It currently rounds toward 0 (like the 'trunc' function NOT 'floor'). This results in incorrect rounding for negative values. To keep the current behavior, use torch.div(a, b, rounding_mode='trunc'), or for actual floor division, use torch.div(a, b, rounding_mode='floor').\n",
      "      ) // self.conv.stride[0] + 1\n",
      "    \n"
     ]
    },
    {
     "data": {
      "text/plain": [
       "['нвракилова на уинс']"
      ]
     },
     "execution_count": 44,
     "metadata": {},
     "output_type": "execute_result"
    }
   ],
   "source": [
    "asr_model.transcribe(['/content/train/farfield/ef104f705011ef2d10f4403dd9dc09e3.wav'])"
   ]
  },
  {
   "cell_type": "code",
   "execution_count": 45,
   "metadata": {
    "colab": {
     "base_uri": "https://localhost:8080/",
     "height": 61
    },
    "id": "kun27-S_kJ3A",
    "outputId": "4fd3a10a-847c-425d-9162-fcfc23445c07"
   },
   "outputs": [
    {
     "data": {
      "text/html": [
       "\n",
       "                <audio controls=\"controls\" >\n",
       "                    <source src=\"data:audio/x-wav;base64,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\" type=\"audio/x-wav\" />\n",
       "                    Your browser does not support the audio element.\n",
       "                </audio>\n",
       "              "
      ],
      "text/plain": [
       "<IPython.lib.display.Audio object>"
      ]
     },
     "execution_count": 45,
     "metadata": {},
     "output_type": "execute_result"
    }
   ],
   "source": [
    "# Load and listen to the audio file\n",
    "example_file = '/content/train/farfield/ef104f705011ef2d10f4403dd9dc09e3.wav'\n",
    "audio, sample_rate = librosa.load(example_file)\n",
    "ipd.Audio(example_file, rate=sample_rate)"
   ]
  },
  {
   "cell_type": "markdown",
   "metadata": {
    "id": "d0lDV9h8YLYZ"
   },
   "source": [
    "## Pytorch trainer"
   ]
  },
  {
   "cell_type": "code",
   "execution_count": 50,
   "metadata": {
    "colab": {
     "base_uri": "https://localhost:8080/"
    },
    "id": "V9kLaYZfWW1j",
    "outputId": "2bc65ffd-1816-4147-d0aa-65af42c5dfe5"
   },
   "outputs": [
    {
     "name": "stderr",
     "output_type": "stream",
     "text": [
      "Using 16bit native Automatic Mixed Precision (AMP)\n",
      "GPU available: True, used: True\n",
      "TPU available: False, using: 0 TPU cores\n",
      "IPU available: False, using: 0 IPUs\n"
     ]
    }
   ],
   "source": [
    "import pytorch_lightning as pl\n",
    "trainer = pl.Trainer(gpus=1, max_epochs=1, precision=16)"
   ]
  },
  {
   "cell_type": "code",
   "execution_count": 51,
   "metadata": {
    "id": "gb7-bh1RXbrP"
   },
   "outputs": [],
   "source": [
    "params_model = asr_model._cfg\n",
    "\n",
    "# --- Config Information ---#\n",
    "# try:\n",
    "#     from ruamel.yaml import YAML\n",
    "# except ModuleNotFoundError:\n",
    "#     from ruamel_yaml import YAML\n",
    "# config_path = '/usr/local/lib/python3.7/dist-packages/nemo/collections/asr/models/configs/'\n",
    "\n",
    "# yaml = YAML(typ='safe')\n",
    "# with open(config_path) as f:\n",
    "#     params = yaml.load(f)\n",
    "# print(params)\n",
    "params_model['train_ds']['parser']='base'\n",
    "params_model['validation_ds']['parser']='base'\n",
    "params_model['test_ds']['parser']='base'\n",
    "\n",
    "params_model['train_ds']['manifest_filepath'] = train_manifest\n",
    "params_model['train_ds']['batch_size']=16\n",
    "\n",
    "params_model['validation_ds']['manifest_filepath'] = test_manifest\n",
    "params_model['validation_ds']['batch_size']=16\n",
    "\n",
    "params_model['test_ds']['manifest_filepath'] = test_manifest\n",
    "params_model['test_ds']['batch_size']=16\n",
    "\n",
    "params_model['optim']['lr'] = 0.00015"
   ]
  },
  {
   "cell_type": "code",
   "execution_count": 52,
   "metadata": {
    "colab": {
     "base_uri": "https://localhost:8080/"
    },
    "id": "PEhUFmsPXn3f",
    "outputId": "edc71af6-1a49-419f-ab41-0b0191e3c1b6"
   },
   "outputs": [
    {
     "name": "stdout",
     "output_type": "stream",
     "text": [
      "[NeMo I 2021-11-30 06:24:05 collections:173] Dataset loaded with 40807 files totalling 43.58 hours\n",
      "[NeMo I 2021-11-30 06:24:05 collections:174] 1 files were filtered totalling 0.01 hours\n"
     ]
    },
    {
     "name": "stderr",
     "output_type": "stream",
     "text": [
      "[NeMo W 2021-11-30 06:24:05 nemo_logging:349] /usr/local/lib/python3.7/dist-packages/torch/utils/data/dataloader.py:481: UserWarning: This DataLoader will create 20 worker processes in total. Our suggested max number of worker in current system is 2, which is smaller than what this DataLoader is going to create. Please be aware that excessive worker creation might get DataLoader running slow or even freeze, lower the worker number to avoid potential slowness/freeze if necessary.\n",
      "      cpuset_checked))\n",
      "    \n"
     ]
    },
    {
     "name": "stdout",
     "output_type": "stream",
     "text": [
      "[NeMo I 2021-11-30 06:24:05 collections:173] Dataset loaded with 1916 files totalling 1.41 hours\n",
      "[NeMo I 2021-11-30 06:24:05 collections:174] 0 files were filtered totalling 0.00 hours\n",
      "[NeMo I 2021-11-30 06:24:05 collections:173] Dataset loaded with 1916 files totalling 1.41 hours\n",
      "[NeMo I 2021-11-30 06:24:05 collections:174] 0 files were filtered totalling 0.00 hours\n",
      "[NeMo I 2021-11-30 06:24:05 features:265] PADDING: 16\n",
      "[NeMo I 2021-11-30 06:24:05 features:282] STFT using torch\n"
     ]
    }
   ],
   "source": [
    "from omegaconf import DictConfig\n",
    "\n",
    "first_asr_model = nemo_asr.models.EncDecCTCModel(cfg=DictConfig(params_model), trainer=trainer)"
   ]
  },
  {
   "cell_type": "code",
   "execution_count": 53,
   "metadata": {
    "colab": {
     "base_uri": "https://localhost:8080/"
    },
    "id": "mqbhyjfKXp9J",
    "outputId": "71e842e9-b5da-4cf7-ec8d-aa170fc58e60"
   },
   "outputs": [
    {
     "name": "stdout",
     "output_type": "stream",
     "text": [
      "[NeMo I 2021-11-30 06:24:09 collections:173] Dataset loaded with 40807 files totalling 43.58 hours\n",
      "[NeMo I 2021-11-30 06:24:09 collections:174] 1 files were filtered totalling 0.01 hours\n"
     ]
    },
    {
     "name": "stderr",
     "output_type": "stream",
     "text": [
      "[NeMo W 2021-11-30 06:24:09 nemo_logging:349] /usr/local/lib/python3.7/dist-packages/torch/utils/data/dataloader.py:481: UserWarning: This DataLoader will create 20 worker processes in total. Our suggested max number of worker in current system is 2, which is smaller than what this DataLoader is going to create. Please be aware that excessive worker creation might get DataLoader running slow or even freeze, lower the worker number to avoid potential slowness/freeze if necessary.\n",
      "      cpuset_checked))\n",
      "    \n"
     ]
    },
    {
     "name": "stdout",
     "output_type": "stream",
     "text": [
      "[NeMo I 2021-11-30 06:24:09 collections:173] Dataset loaded with 1916 files totalling 1.41 hours\n",
      "[NeMo I 2021-11-30 06:24:09 collections:174] 0 files were filtered totalling 0.00 hours\n",
      "[NeMo I 2021-11-30 06:24:09 collections:173] Dataset loaded with 1916 files totalling 1.41 hours\n",
      "[NeMo I 2021-11-30 06:24:09 collections:174] 0 files were filtered totalling 0.00 hours\n"
     ]
    }
   ],
   "source": [
    "asr_model.setup_training_data(train_data_config=params_model['train_ds'])\n",
    "asr_model.setup_test_data(test_data_config=params_model['test_ds'])\n",
    "asr_model.setup_validation_data(val_data_config=params_model['validation_ds'])"
   ]
  },
  {
   "cell_type": "code",
   "execution_count": 54,
   "metadata": {
    "colab": {
     "base_uri": "https://localhost:8080/"
    },
    "id": "bnV2cL1PX6SF",
    "outputId": "4913eb82-7c0d-4792-e8af-b559ad1e8b8a"
   },
   "outputs": [
    {
     "name": "stderr",
     "output_type": "stream",
     "text": [
      "[NeMo W 2021-11-30 06:24:10 nemo_logging:349] /usr/local/lib/python3.7/dist-packages/nemo/collections/asr/parts/submodules/jasper.py:280: UserWarning: __floordiv__ is deprecated, and its behavior will change in a future version of pytorch. It currently rounds toward 0 (like the 'trunc' function NOT 'floor'). This results in incorrect rounding for negative values. To keep the current behavior, use torch.div(a, b, rounding_mode='trunc'), or for actual floor division, use torch.div(a, b, rounding_mode='floor').\n",
      "      ) // self.conv.stride[0] + 1\n",
      "    \n"
     ]
    },
    {
     "name": "stdout",
     "output_type": "stream",
     "text": [
      "WER = 0.6706365164969896\n"
     ]
    }
   ],
   "source": [
    "# Bigger batch-size = bigger throughput\n",
    "# params['model']['validation_ds']['batch_size'] = 16\n",
    "# Setup the test data loader and make sure the model is on GPU\n",
    "# first_asr_model.setup_test_data(test_data_config=params['model']['validation_ds'])\n",
    "asr_model.cuda()\n",
    "\n",
    "# We will be computing Word Error Rate (WER) metric between our hypothesis and predictions.\n",
    "# WER is computed as numerator/denominator.\n",
    "# We'll gather all the test batches' numerators and denominators.\n",
    "wer_nums = []\n",
    "wer_denoms = []\n",
    "\n",
    "# Loop over all test batches.\n",
    "# Iterating over the model's `test_dataloader` will give us:\n",
    "# (audio_signal, audio_signal_length, transcript_tokens, transcript_length)\n",
    "# See the AudioToCharDataset for more details.\n",
    "for test_batch in asr_model.test_dataloader():\n",
    "        test_batch = [x.cuda() for x in test_batch]\n",
    "        targets = test_batch[2]\n",
    "        targets_lengths = test_batch[3]        \n",
    "        log_probs, encoded_len, greedy_predictions = asr_model(\n",
    "            input_signal=test_batch[0], input_signal_length=test_batch[1]\n",
    "        )\n",
    "        # Notice the model has a helper object to compute WER\n",
    "        asr_model._wer.update(greedy_predictions, targets, targets_lengths)\n",
    "        _, wer_num, wer_denom = asr_model._wer.compute()\n",
    "        asr_model._wer.reset()\n",
    "        wer_nums.append(wer_num.detach().cpu().numpy())\n",
    "        wer_denoms.append(wer_denom.detach().cpu().numpy())\n",
    "\n",
    "        # Release tensors from GPU memory\n",
    "        del test_batch, log_probs, targets, targets_lengths, encoded_len, greedy_predictions\n",
    "\n",
    "# We need to sum all numerators and denominators first. Then divide.\n",
    "print(f\"WER = {sum(wer_nums)/sum(wer_denoms)}\")"
   ]
  },
  {
   "cell_type": "code",
   "execution_count": null,
   "metadata": {
    "id": "VWGFsbsCHwA6"
   },
   "outputs": [],
   "source": []
  },
  {
   "cell_type": "code",
   "execution_count": 55,
   "metadata": {
    "colab": {
     "base_uri": "https://localhost:8080/",
     "height": 872,
     "referenced_widgets": [
      "b0acb8a04deb420797b88be827f97609",
      "6cf4a652aeb14ddc9000f5f04939df65",
      "47100f42ad7844f1b97daab79a82d00a",
      "46ec48c6951e49e6b63d6262ed502ae2",
      "e5fb2f02259a4a42a92b988d1e275545",
      "6effcfb7639c43cab8c06da34f22b638",
      "0c2991a4c1ff468ca79f985d82e20f06",
      "121c4480ebdc406caf2d9f9b78f4f5c1",
      "df90cb852b794f1c8695c4a44c89bac4",
      "99d20c33a3aa40aa920e15170abdfefd",
      "e40fa4d96b5b496da949c0dca15c87d0",
      "146b776d5ae74740a1611132a41396ea",
      "a6ca77a2200642d28efec4fec5ca249e",
      "ba9917fa5e1e4495bd9d84e533c1d103",
      "7b2b0a644b9f48848058208138747eb4",
      "1b8b56cabf2541a1a84367bf1864f84f",
      "b28dcf55c46f488ab445f00d8e102877",
      "95545ea1f6cf45448c17cb8d6ec2f80d",
      "e7eb8ba8caf848c98e8f3cd8b2ec0140",
      "da070090aee24e2d8666baa19d7a9cd0",
      "422f08e18b234283a5c70b845dc6a541",
      "ff8a3868b0a846dda48a8f5078bd3201",
      "8de498c6cd5546ca9735877db4b1f4e6",
      "0eb9cabe442b49709488cb7294b5c600",
      "6a2654d8055b4467b051f8a8556115e6",
      "689a834b0fef44dbbbd0727ccc4947f3",
      "a4e093bafa6c4420b79a9f8baf55dcf4",
      "0f7dac809571463697b57138989d6f33",
      "cebb63c414f148b49a0ec3034c08f182",
      "334e4116ab3f4028a612073f57857bf1",
      "e47d21d89cb343ee8c197713c495a434",
      "7575c5e2ea4b48919774a2daa1a6e910",
      "a6c500911e7341c1a198bd010799a28e"
     ]
    },
    "id": "319kA-emprS2",
    "outputId": "6c89746f-0a23-4e8d-d407-0ba2a5e0d828"
   },
   "outputs": [
    {
     "name": "stderr",
     "output_type": "stream",
     "text": [
      "LOCAL_RANK: 0 - CUDA_VISIBLE_DEVICES: [0]\n",
      "[NeMo W 2021-11-30 06:24:58 modelPT:453] Trainer wasn't specified in model constructor. Make sure that you really wanted it.\n"
     ]
    },
    {
     "name": "stdout",
     "output_type": "stream",
     "text": [
      "[NeMo I 2021-11-30 06:24:58 modelPT:561] Optimizer config = Novograd (\n",
      "    Parameter Group 0\n",
      "        amsgrad: False\n",
      "        betas: [0.9, 0.98]\n",
      "        eps: 1e-08\n",
      "        grad_averaging: False\n",
      "        lr: 0.00015\n",
      "        weight_decay: 0.001\n",
      "    )\n"
     ]
    },
    {
     "name": "stderr",
     "output_type": "stream",
     "text": [
      "[NeMo W 2021-11-30 06:24:58 lr_scheduler:732] Neither `max_steps` nor `iters_per_batch` were provided to `optim.sched`, cannot compute effective `max_steps` !\n",
      "    Scheduler will not be instantiated !\n",
      "\n",
      "  | Name              | Type                              | Params\n",
      "------------------------------------------------------------------------\n",
      "0 | preprocessor      | AudioToMelSpectrogramPreprocessor | 0     \n",
      "1 | encoder           | ConvASREncoder                    | 18.9 M\n",
      "2 | decoder           | ConvASRDecoder                    | 34.9 K\n",
      "3 | loss              | CTCLoss                           | 0     \n",
      "4 | spec_augmentation | SpectrogramAugmentation           | 0     \n",
      "5 | _wer              | WER                               | 0     \n",
      "------------------------------------------------------------------------\n",
      "18.9 M    Trainable params\n",
      "0         Non-trainable params\n",
      "18.9 M    Total params\n",
      "37.859    Total estimated model params size (MB)\n"
     ]
    },
    {
     "data": {
      "application/vnd.jupyter.widget-view+json": {
       "model_id": "b0acb8a04deb420797b88be827f97609",
       "version_major": 2,
       "version_minor": 0
      },
      "text/plain": [
       "Validation sanity check: 0it [00:00, ?it/s]"
      ]
     },
     "metadata": {},
     "output_type": "display_data"
    },
    {
     "name": "stderr",
     "output_type": "stream",
     "text": [
      "[NeMo W 2021-11-30 06:24:59 nemo_logging:349] /usr/local/lib/python3.7/dist-packages/torch/utils/data/dataloader.py:481: UserWarning: This DataLoader will create 20 worker processes in total. Our suggested max number of worker in current system is 2, which is smaller than what this DataLoader is going to create. Please be aware that excessive worker creation might get DataLoader running slow or even freeze, lower the worker number to avoid potential slowness/freeze if necessary.\n",
      "      cpuset_checked))\n",
      "    \n",
      "[NeMo W 2021-11-30 06:25:01 nemo_logging:349] /usr/local/lib/python3.7/dist-packages/nemo/collections/asr/parts/submodules/jasper.py:280: UserWarning: __floordiv__ is deprecated, and its behavior will change in a future version of pytorch. It currently rounds toward 0 (like the 'trunc' function NOT 'floor'). This results in incorrect rounding for negative values. To keep the current behavior, use torch.div(a, b, rounding_mode='trunc'), or for actual floor division, use torch.div(a, b, rounding_mode='floor').\n",
      "      ) // self.conv.stride[0] + 1\n",
      "    \n"
     ]
    },
    {
     "data": {
      "application/vnd.jupyter.widget-view+json": {
       "model_id": "146b776d5ae74740a1611132a41396ea",
       "version_major": 2,
       "version_minor": 0
      },
      "text/plain": [
       "Training: 0it [00:00, ?it/s]"
      ]
     },
     "metadata": {},
     "output_type": "display_data"
    },
    {
     "name": "stderr",
     "output_type": "stream",
     "text": [
      "[NeMo W 2021-11-30 06:54:32 nemo_logging:349] /usr/local/lib/python3.7/dist-packages/nemo/collections/asr/parts/submodules/jasper.py:280: UserWarning: __floordiv__ is deprecated, and its behavior will change in a future version of pytorch. It currently rounds toward 0 (like the 'trunc' function NOT 'floor'). This results in incorrect rounding for negative values. To keep the current behavior, use torch.div(a, b, rounding_mode='trunc'), or for actual floor division, use torch.div(a, b, rounding_mode='floor').\n",
      "      ) // self.conv.stride[0] + 1\n",
      "    \n",
      "[NeMo W 2021-11-30 06:54:35 nemo_logging:349] /usr/local/lib/python3.7/dist-packages/nemo/collections/asr/parts/submodules/jasper.py:280: UserWarning: __floordiv__ is deprecated, and its behavior will change in a future version of pytorch. It currently rounds toward 0 (like the 'trunc' function NOT 'floor'). This results in incorrect rounding for negative values. To keep the current behavior, use torch.div(a, b, rounding_mode='trunc'), or for actual floor division, use torch.div(a, b, rounding_mode='floor').\n",
      "      ) // self.conv.stride[0] + 1\n",
      "    \n"
     ]
    },
    {
     "data": {
      "application/vnd.jupyter.widget-view+json": {
       "model_id": "8de498c6cd5546ca9735877db4b1f4e6",
       "version_major": 2,
       "version_minor": 0
      },
      "text/plain": [
       "Validating: 0it [00:00, ?it/s]"
      ]
     },
     "metadata": {},
     "output_type": "display_data"
    },
    {
     "name": "stderr",
     "output_type": "stream",
     "text": [
      "[NeMo W 2021-11-30 07:41:59 nemo_logging:349] /usr/local/lib/python3.7/dist-packages/torch/utils/data/dataloader.py:481: UserWarning: This DataLoader will create 20 worker processes in total. Our suggested max number of worker in current system is 2, which is smaller than what this DataLoader is going to create. Please be aware that excessive worker creation might get DataLoader running slow or even freeze, lower the worker number to avoid potential slowness/freeze if necessary.\n",
      "      cpuset_checked))\n",
      "    \n"
     ]
    }
   ],
   "source": [
    "trainer.fit(asr_model)"
   ]
  },
  {
   "cell_type": "code",
   "execution_count": 56,
   "metadata": {
    "colab": {
     "base_uri": "https://localhost:8080/"
    },
    "id": "EZUgDNHJpvBF",
    "outputId": "2ca23fbc-e8de-4f7d-8caa-914e94127e8e"
   },
   "outputs": [
    {
     "name": "stderr",
     "output_type": "stream",
     "text": [
      "[NeMo W 2021-11-30 07:42:43 nemo_logging:349] /usr/local/lib/python3.7/dist-packages/nemo/collections/asr/parts/submodules/jasper.py:280: UserWarning: __floordiv__ is deprecated, and its behavior will change in a future version of pytorch. It currently rounds toward 0 (like the 'trunc' function NOT 'floor'). This results in incorrect rounding for negative values. To keep the current behavior, use torch.div(a, b, rounding_mode='trunc'), or for actual floor division, use torch.div(a, b, rounding_mode='floor').\n",
      "      ) // self.conv.stride[0] + 1\n",
      "    \n"
     ]
    },
    {
     "name": "stdout",
     "output_type": "stream",
     "text": [
      "WER = 0.59790523876723471\n"
     ]
    }
   ],
   "source": [
    "# Bigger batch-size = bigger throughput\n",
    "# params['model']['validation_ds']['batch_size'] = 16\n",
    "# Setup the test data loader and make sure the model is on GPU\n",
    "# first_asr_model.setup_test_data(test_data_config=params['model']['validation_ds'])\n",
    "asr_model.cuda()\n",
    "\n",
    "# We will be computing Word Error Rate (WER) metric between our hypothesis and predictions.\n",
    "# WER is computed as numerator/denominator.\n",
    "# We'll gather all the test batches' numerators and denominators.\n",
    "wer_nums = []\n",
    "wer_denoms = []\n",
    "\n",
    "# Loop over all test batches.\n",
    "# Iterating over the model's `test_dataloader` will give us:\n",
    "# (audio_signal, audio_signal_length, transcript_tokens, transcript_length)\n",
    "# See the AudioToCharDataset for more details.\n",
    "for test_batch in asr_model.test_dataloader():\n",
    "        test_batch = [x.cuda() for x in test_batch]\n",
    "        targets = test_batch[2]\n",
    "        targets_lengths = test_batch[3]        \n",
    "        log_probs, encoded_len, greedy_predictions = asr_model(\n",
    "            input_signal=test_batch[0], input_signal_length=test_batch[1]\n",
    "        )\n",
    "        # Notice the model has a helper object to compute WER\n",
    "        asr_model._wer.update(greedy_predictions, targets, targets_lengths)\n",
    "        _, wer_num, wer_denom = asr_model._wer.compute()\n",
    "        asr_model._wer.reset()\n",
    "        wer_nums.append(wer_num.detach().cpu().numpy())\n",
    "        wer_denoms.append(wer_denom.detach().cpu().numpy())\n",
    "\n",
    "        # Release tensors from GPU memory\n",
    "        del test_batch, log_probs, targets, targets_lengths, encoded_len, greedy_predictions\n",
    "\n",
    "# We need to sum all numerators and denominators first. Then divide.\n",
    "print(f\"WER = {sum(wer_nums)/sum(wer_denoms)}\")"
   ]
  },
  {
   "cell_type": "code",
   "execution_count": null,
   "metadata": {
    "id": "Q3RPziiqhKTO"
   },
   "outputs": [],
   "source": []
  }
 ],
 "metadata": {
  "accelerator": "GPU",
  "colab": {
   "collapsed_sections": [],
   "name": "HW_audio.ipynb",
   "provenance": []
  },
  "kernelspec": {
   "display_name": "Python 3",
   "language": "python",
   "name": "python3"
  },
  "language_info": {
   "codemirror_mode": {
    "name": "ipython",
    "version": 3
   },
   "file_extension": ".py",
   "mimetype": "text/x-python",
   "name": "python",
   "nbconvert_exporter": "python",
   "pygments_lexer": "ipython3",
   "version": "3.8.3"
  },
  "widgets": {
   "application/vnd.jupyter.widget-state+json": {
    "0c2991a4c1ff468ca79f985d82e20f06": {
     "model_module": "@jupyter-widgets/base",
     "model_module_version": "1.2.0",
     "model_name": "LayoutModel",
     "state": {
      "_model_module": "@jupyter-widgets/base",
      "_model_module_version": "1.2.0",
      "_model_name": "LayoutModel",
      "_view_count": null,
      "_view_module": "@jupyter-widgets/base",
      "_view_module_version": "1.2.0",
      "_view_name": "LayoutView",
      "align_content": null,
      "align_items": null,
      "align_self": null,
      "border": null,
      "bottom": null,
      "display": null,
      "flex": null,
      "flex_flow": null,
      "grid_area": null,
      "grid_auto_columns": null,
      "grid_auto_flow": null,
      "grid_auto_rows": null,
      "grid_column": null,
      "grid_gap": null,
      "grid_row": null,
      "grid_template_areas": null,
      "grid_template_columns": null,
      "grid_template_rows": null,
      "height": null,
      "justify_content": null,
      "justify_items": null,
      "left": null,
      "margin": null,
      "max_height": null,
      "max_width": null,
      "min_height": null,
      "min_width": null,
      "object_fit": null,
      "object_position": null,
      "order": null,
      "overflow": null,
      "overflow_x": null,
      "overflow_y": null,
      "padding": null,
      "right": null,
      "top": null,
      "visibility": null,
      "width": null
     }
    },
    "0eb9cabe442b49709488cb7294b5c600": {
     "model_module": "@jupyter-widgets/base",
     "model_module_version": "1.2.0",
     "model_name": "LayoutModel",
     "state": {
      "_model_module": "@jupyter-widgets/base",
      "_model_module_version": "1.2.0",
      "_model_name": "LayoutModel",
      "_view_count": null,
      "_view_module": "@jupyter-widgets/base",
      "_view_module_version": "1.2.0",
      "_view_name": "LayoutView",
      "align_content": null,
      "align_items": null,
      "align_self": null,
      "border": null,
      "bottom": null,
      "display": "inline-flex",
      "flex": null,
      "flex_flow": "row wrap",
      "grid_area": null,
      "grid_auto_columns": null,
      "grid_auto_flow": null,
      "grid_auto_rows": null,
      "grid_column": null,
      "grid_gap": null,
      "grid_row": null,
      "grid_template_areas": null,
      "grid_template_columns": null,
      "grid_template_rows": null,
      "height": null,
      "justify_content": null,
      "justify_items": null,
      "left": null,
      "margin": null,
      "max_height": null,
      "max_width": null,
      "min_height": null,
      "min_width": null,
      "object_fit": null,
      "object_position": null,
      "order": null,
      "overflow": null,
      "overflow_x": null,
      "overflow_y": null,
      "padding": null,
      "right": null,
      "top": null,
      "visibility": null,
      "width": "100%"
     }
    },
    "0f42a8c2a3e149969ea10e36db06cb85": {
     "model_module": "@jupyter-widgets/controls",
     "model_module_version": "1.5.0",
     "model_name": "HTMLModel",
     "state": {
      "_dom_classes": [],
      "_model_module": "@jupyter-widgets/controls",
      "_model_module_version": "1.5.0",
      "_model_name": "HTMLModel",
      "_view_count": null,
      "_view_module": "@jupyter-widgets/controls",
      "_view_module_version": "1.5.0",
      "_view_name": "HTMLView",
      "description": "",
      "description_tooltip": null,
      "layout": "IPY_MODEL_4799e08eba144ad680fd44dc2c28f839",
      "placeholder": "​",
      "style": "IPY_MODEL_4470b09d5ab74b459244061fefc19fc2",
      "value": "Transcribing: 100%"
     }
    },
    "0f7dac809571463697b57138989d6f33": {
     "model_module": "@jupyter-widgets/controls",
     "model_module_version": "1.5.0",
     "model_name": "DescriptionStyleModel",
     "state": {
      "_model_module": "@jupyter-widgets/controls",
      "_model_module_version": "1.5.0",
      "_model_name": "DescriptionStyleModel",
      "_view_count": null,
      "_view_module": "@jupyter-widgets/base",
      "_view_module_version": "1.2.0",
      "_view_name": "StyleView",
      "description_width": ""
     }
    },
    "121c4480ebdc406caf2d9f9b78f4f5c1": {
     "model_module": "@jupyter-widgets/controls",
     "model_module_version": "1.5.0",
     "model_name": "ProgressStyleModel",
     "state": {
      "_model_module": "@jupyter-widgets/controls",
      "_model_module_version": "1.5.0",
      "_model_name": "ProgressStyleModel",
      "_view_count": null,
      "_view_module": "@jupyter-widgets/base",
      "_view_module_version": "1.2.0",
      "_view_name": "StyleView",
      "bar_color": null,
      "description_width": ""
     }
    },
    "146b776d5ae74740a1611132a41396ea": {
     "model_module": "@jupyter-widgets/controls",
     "model_module_version": "1.5.0",
     "model_name": "HBoxModel",
     "state": {
      "_dom_classes": [],
      "_model_module": "@jupyter-widgets/controls",
      "_model_module_version": "1.5.0",
      "_model_name": "HBoxModel",
      "_view_count": null,
      "_view_module": "@jupyter-widgets/controls",
      "_view_module_version": "1.5.0",
      "_view_name": "HBoxView",
      "box_style": "",
      "children": [
       "IPY_MODEL_ba9917fa5e1e4495bd9d84e533c1d103",
       "IPY_MODEL_7b2b0a644b9f48848058208138747eb4",
       "IPY_MODEL_1b8b56cabf2541a1a84367bf1864f84f"
      ],
      "layout": "IPY_MODEL_a6ca77a2200642d28efec4fec5ca249e"
     }
    },
    "19f3762a5dd4478a99a5526577a07a73": {
     "model_module": "@jupyter-widgets/base",
     "model_module_version": "1.2.0",
     "model_name": "LayoutModel",
     "state": {
      "_model_module": "@jupyter-widgets/base",
      "_model_module_version": "1.2.0",
      "_model_name": "LayoutModel",
      "_view_count": null,
      "_view_module": "@jupyter-widgets/base",
      "_view_module_version": "1.2.0",
      "_view_name": "LayoutView",
      "align_content": null,
      "align_items": null,
      "align_self": null,
      "border": null,
      "bottom": null,
      "display": null,
      "flex": null,
      "flex_flow": null,
      "grid_area": null,
      "grid_auto_columns": null,
      "grid_auto_flow": null,
      "grid_auto_rows": null,
      "grid_column": null,
      "grid_gap": null,
      "grid_row": null,
      "grid_template_areas": null,
      "grid_template_columns": null,
      "grid_template_rows": null,
      "height": null,
      "justify_content": null,
      "justify_items": null,
      "left": null,
      "margin": null,
      "max_height": null,
      "max_width": null,
      "min_height": null,
      "min_width": null,
      "object_fit": null,
      "object_position": null,
      "order": null,
      "overflow": null,
      "overflow_x": null,
      "overflow_y": null,
      "padding": null,
      "right": null,
      "top": null,
      "visibility": null,
      "width": null
     }
    },
    "1b8b56cabf2541a1a84367bf1864f84f": {
     "model_module": "@jupyter-widgets/controls",
     "model_module_version": "1.5.0",
     "model_name": "HTMLModel",
     "state": {
      "_dom_classes": [],
      "_model_module": "@jupyter-widgets/controls",
      "_model_module_version": "1.5.0",
      "_model_name": "HTMLModel",
      "_view_count": null,
      "_view_module": "@jupyter-widgets/controls",
      "_view_module_version": "1.5.0",
      "_view_name": "HTMLView",
      "description": "",
      "description_tooltip": null,
      "layout": "IPY_MODEL_ff8a3868b0a846dda48a8f5078bd3201",
      "placeholder": "​",
      "style": "IPY_MODEL_422f08e18b234283a5c70b845dc6a541",
      "value": " 2671/2671 [1:17:38&lt;00:00,  1.74s/it, loss=4.43, v_num=0]"
     }
    },
    "20fd68ca05cb40d4a92e66ef085bfbfb": {
     "model_module": "@jupyter-widgets/controls",
     "model_module_version": "1.5.0",
     "model_name": "DescriptionStyleModel",
     "state": {
      "_model_module": "@jupyter-widgets/controls",
      "_model_module_version": "1.5.0",
      "_model_name": "DescriptionStyleModel",
      "_view_count": null,
      "_view_module": "@jupyter-widgets/base",
      "_view_module_version": "1.2.0",
      "_view_name": "StyleView",
      "description_width": ""
     }
    },
    "2c3d2b2a1ff340e6a9e26f82af215200": {
     "model_module": "@jupyter-widgets/base",
     "model_module_version": "1.2.0",
     "model_name": "LayoutModel",
     "state": {
      "_model_module": "@jupyter-widgets/base",
      "_model_module_version": "1.2.0",
      "_model_name": "LayoutModel",
      "_view_count": null,
      "_view_module": "@jupyter-widgets/base",
      "_view_module_version": "1.2.0",
      "_view_name": "LayoutView",
      "align_content": null,
      "align_items": null,
      "align_self": null,
      "border": null,
      "bottom": null,
      "display": null,
      "flex": null,
      "flex_flow": null,
      "grid_area": null,
      "grid_auto_columns": null,
      "grid_auto_flow": null,
      "grid_auto_rows": null,
      "grid_column": null,
      "grid_gap": null,
      "grid_row": null,
      "grid_template_areas": null,
      "grid_template_columns": null,
      "grid_template_rows": null,
      "height": null,
      "justify_content": null,
      "justify_items": null,
      "left": null,
      "margin": null,
      "max_height": null,
      "max_width": null,
      "min_height": null,
      "min_width": null,
      "object_fit": null,
      "object_position": null,
      "order": null,
      "overflow": null,
      "overflow_x": null,
      "overflow_y": null,
      "padding": null,
      "right": null,
      "top": null,
      "visibility": null,
      "width": null
     }
    },
    "334e4116ab3f4028a612073f57857bf1": {
     "model_module": "@jupyter-widgets/controls",
     "model_module_version": "1.5.0",
     "model_name": "ProgressStyleModel",
     "state": {
      "_model_module": "@jupyter-widgets/controls",
      "_model_module_version": "1.5.0",
      "_model_name": "ProgressStyleModel",
      "_view_count": null,
      "_view_module": "@jupyter-widgets/base",
      "_view_module_version": "1.2.0",
      "_view_name": "StyleView",
      "bar_color": null,
      "description_width": ""
     }
    },
    "3a2a0558e387415b9fabfdd69d70c474": {
     "model_module": "@jupyter-widgets/controls",
     "model_module_version": "1.5.0",
     "model_name": "HTMLModel",
     "state": {
      "_dom_classes": [],
      "_model_module": "@jupyter-widgets/controls",
      "_model_module_version": "1.5.0",
      "_model_name": "HTMLModel",
      "_view_count": null,
      "_view_module": "@jupyter-widgets/controls",
      "_view_module_version": "1.5.0",
      "_view_name": "HTMLView",
      "description": "",
      "description_tooltip": null,
      "layout": "IPY_MODEL_a6ed4f2f4f684c44a3c0104703ec63d2",
      "placeholder": "​",
      "style": "IPY_MODEL_f97f0617f5dd4b2bb24a1c5a4b318045",
      "value": "Transcribing: 100%"
     }
    },
    "40c15662a19d431db7303081e238fef9": {
     "model_module": "@jupyter-widgets/controls",
     "model_module_version": "1.5.0",
     "model_name": "HBoxModel",
     "state": {
      "_dom_classes": [],
      "_model_module": "@jupyter-widgets/controls",
      "_model_module_version": "1.5.0",
      "_model_name": "HBoxModel",
      "_view_count": null,
      "_view_module": "@jupyter-widgets/controls",
      "_view_module_version": "1.5.0",
      "_view_name": "HBoxView",
      "box_style": "",
      "children": [
       "IPY_MODEL_3a2a0558e387415b9fabfdd69d70c474",
       "IPY_MODEL_8f78a2279c724fdaaa0a64e1da823546",
       "IPY_MODEL_b1e5cb11ac114a6ea49ecd743f93be8e"
      ],
      "layout": "IPY_MODEL_4a0cc73caa2845f0aa082e5689533a4e"
     }
    },
    "422f08e18b234283a5c70b845dc6a541": {
     "model_module": "@jupyter-widgets/controls",
     "model_module_version": "1.5.0",
     "model_name": "DescriptionStyleModel",
     "state": {
      "_model_module": "@jupyter-widgets/controls",
      "_model_module_version": "1.5.0",
      "_model_name": "DescriptionStyleModel",
      "_view_count": null,
      "_view_module": "@jupyter-widgets/base",
      "_view_module_version": "1.2.0",
      "_view_name": "StyleView",
      "description_width": ""
     }
    },
    "4470b09d5ab74b459244061fefc19fc2": {
     "model_module": "@jupyter-widgets/controls",
     "model_module_version": "1.5.0",
     "model_name": "DescriptionStyleModel",
     "state": {
      "_model_module": "@jupyter-widgets/controls",
      "_model_module_version": "1.5.0",
      "_model_name": "DescriptionStyleModel",
      "_view_count": null,
      "_view_module": "@jupyter-widgets/base",
      "_view_module_version": "1.2.0",
      "_view_name": "StyleView",
      "description_width": ""
     }
    },
    "46ec48c6951e49e6b63d6262ed502ae2": {
     "model_module": "@jupyter-widgets/controls",
     "model_module_version": "1.5.0",
     "model_name": "FloatProgressModel",
     "state": {
      "_dom_classes": [],
      "_model_module": "@jupyter-widgets/controls",
      "_model_module_version": "1.5.0",
      "_model_name": "FloatProgressModel",
      "_view_count": null,
      "_view_module": "@jupyter-widgets/controls",
      "_view_module_version": "1.5.0",
      "_view_name": "ProgressView",
      "bar_style": "danger",
      "description": "",
      "description_tooltip": null,
      "layout": "IPY_MODEL_df90cb852b794f1c8695c4a44c89bac4",
      "max": 2,
      "min": 0,
      "orientation": "horizontal",
      "style": "IPY_MODEL_121c4480ebdc406caf2d9f9b78f4f5c1",
      "value": 0
     }
    },
    "47100f42ad7844f1b97daab79a82d00a": {
     "model_module": "@jupyter-widgets/controls",
     "model_module_version": "1.5.0",
     "model_name": "HTMLModel",
     "state": {
      "_dom_classes": [],
      "_model_module": "@jupyter-widgets/controls",
      "_model_module_version": "1.5.0",
      "_model_name": "HTMLModel",
      "_view_count": null,
      "_view_module": "@jupyter-widgets/controls",
      "_view_module_version": "1.5.0",
      "_view_name": "HTMLView",
      "description": "",
      "description_tooltip": null,
      "layout": "IPY_MODEL_0c2991a4c1ff468ca79f985d82e20f06",
      "placeholder": "​",
      "style": "IPY_MODEL_6effcfb7639c43cab8c06da34f22b638",
      "value": "Validation sanity check:   0%"
     }
    },
    "4799e08eba144ad680fd44dc2c28f839": {
     "model_module": "@jupyter-widgets/base",
     "model_module_version": "1.2.0",
     "model_name": "LayoutModel",
     "state": {
      "_model_module": "@jupyter-widgets/base",
      "_model_module_version": "1.2.0",
      "_model_name": "LayoutModel",
      "_view_count": null,
      "_view_module": "@jupyter-widgets/base",
      "_view_module_version": "1.2.0",
      "_view_name": "LayoutView",
      "align_content": null,
      "align_items": null,
      "align_self": null,
      "border": null,
      "bottom": null,
      "display": null,
      "flex": null,
      "flex_flow": null,
      "grid_area": null,
      "grid_auto_columns": null,
      "grid_auto_flow": null,
      "grid_auto_rows": null,
      "grid_column": null,
      "grid_gap": null,
      "grid_row": null,
      "grid_template_areas": null,
      "grid_template_columns": null,
      "grid_template_rows": null,
      "height": null,
      "justify_content": null,
      "justify_items": null,
      "left": null,
      "margin": null,
      "max_height": null,
      "max_width": null,
      "min_height": null,
      "min_width": null,
      "object_fit": null,
      "object_position": null,
      "order": null,
      "overflow": null,
      "overflow_x": null,
      "overflow_y": null,
      "padding": null,
      "right": null,
      "top": null,
      "visibility": null,
      "width": null
     }
    },
    "4a0cc73caa2845f0aa082e5689533a4e": {
     "model_module": "@jupyter-widgets/base",
     "model_module_version": "1.2.0",
     "model_name": "LayoutModel",
     "state": {
      "_model_module": "@jupyter-widgets/base",
      "_model_module_version": "1.2.0",
      "_model_name": "LayoutModel",
      "_view_count": null,
      "_view_module": "@jupyter-widgets/base",
      "_view_module_version": "1.2.0",
      "_view_name": "LayoutView",
      "align_content": null,
      "align_items": null,
      "align_self": null,
      "border": null,
      "bottom": null,
      "display": null,
      "flex": null,
      "flex_flow": null,
      "grid_area": null,
      "grid_auto_columns": null,
      "grid_auto_flow": null,
      "grid_auto_rows": null,
      "grid_column": null,
      "grid_gap": null,
      "grid_row": null,
      "grid_template_areas": null,
      "grid_template_columns": null,
      "grid_template_rows": null,
      "height": null,
      "justify_content": null,
      "justify_items": null,
      "left": null,
      "margin": null,
      "max_height": null,
      "max_width": null,
      "min_height": null,
      "min_width": null,
      "object_fit": null,
      "object_position": null,
      "order": null,
      "overflow": null,
      "overflow_x": null,
      "overflow_y": null,
      "padding": null,
      "right": null,
      "top": null,
      "visibility": null,
      "width": null
     }
    },
    "4d483380414c4405abc9b4046e053020": {
     "model_module": "@jupyter-widgets/controls",
     "model_module_version": "1.5.0",
     "model_name": "DescriptionStyleModel",
     "state": {
      "_model_module": "@jupyter-widgets/controls",
      "_model_module_version": "1.5.0",
      "_model_name": "DescriptionStyleModel",
      "_view_count": null,
      "_view_module": "@jupyter-widgets/base",
      "_view_module_version": "1.2.0",
      "_view_name": "StyleView",
      "description_width": ""
     }
    },
    "59ccd55c260f40438cc4809770a2b03b": {
     "model_module": "@jupyter-widgets/controls",
     "model_module_version": "1.5.0",
     "model_name": "HBoxModel",
     "state": {
      "_dom_classes": [],
      "_model_module": "@jupyter-widgets/controls",
      "_model_module_version": "1.5.0",
      "_model_name": "HBoxModel",
      "_view_count": null,
      "_view_module": "@jupyter-widgets/controls",
      "_view_module_version": "1.5.0",
      "_view_name": "HBoxView",
      "box_style": "",
      "children": [
       "IPY_MODEL_0f42a8c2a3e149969ea10e36db06cb85",
       "IPY_MODEL_d6bb06fa5afd4a0b950853a7a1db1dcc",
       "IPY_MODEL_ae6b5fd9888a492d94703331f3e30810"
      ],
      "layout": "IPY_MODEL_19f3762a5dd4478a99a5526577a07a73"
     }
    },
    "5dca4877523147e5b2f8c40887496678": {
     "model_module": "@jupyter-widgets/controls",
     "model_module_version": "1.5.0",
     "model_name": "ProgressStyleModel",
     "state": {
      "_model_module": "@jupyter-widgets/controls",
      "_model_module_version": "1.5.0",
      "_model_name": "ProgressStyleModel",
      "_view_count": null,
      "_view_module": "@jupyter-widgets/base",
      "_view_module_version": "1.2.0",
      "_view_name": "StyleView",
      "bar_color": null,
      "description_width": ""
     }
    },
    "6352f06c89ce4aea93ba96d232f73c57": {
     "model_module": "@jupyter-widgets/base",
     "model_module_version": "1.2.0",
     "model_name": "LayoutModel",
     "state": {
      "_model_module": "@jupyter-widgets/base",
      "_model_module_version": "1.2.0",
      "_model_name": "LayoutModel",
      "_view_count": null,
      "_view_module": "@jupyter-widgets/base",
      "_view_module_version": "1.2.0",
      "_view_name": "LayoutView",
      "align_content": null,
      "align_items": null,
      "align_self": null,
      "border": null,
      "bottom": null,
      "display": null,
      "flex": null,
      "flex_flow": null,
      "grid_area": null,
      "grid_auto_columns": null,
      "grid_auto_flow": null,
      "grid_auto_rows": null,
      "grid_column": null,
      "grid_gap": null,
      "grid_row": null,
      "grid_template_areas": null,
      "grid_template_columns": null,
      "grid_template_rows": null,
      "height": null,
      "justify_content": null,
      "justify_items": null,
      "left": null,
      "margin": null,
      "max_height": null,
      "max_width": null,
      "min_height": null,
      "min_width": null,
      "object_fit": null,
      "object_position": null,
      "order": null,
      "overflow": null,
      "overflow_x": null,
      "overflow_y": null,
      "padding": null,
      "right": null,
      "top": null,
      "visibility": null,
      "width": null
     }
    },
    "689a834b0fef44dbbbd0727ccc4947f3": {
     "model_module": "@jupyter-widgets/controls",
     "model_module_version": "1.5.0",
     "model_name": "FloatProgressModel",
     "state": {
      "_dom_classes": [],
      "_model_module": "@jupyter-widgets/controls",
      "_model_module_version": "1.5.0",
      "_model_name": "FloatProgressModel",
      "_view_count": null,
      "_view_module": "@jupyter-widgets/controls",
      "_view_module_version": "1.5.0",
      "_view_name": "ProgressView",
      "bar_style": "",
      "description": "",
      "description_tooltip": null,
      "layout": "IPY_MODEL_e47d21d89cb343ee8c197713c495a434",
      "max": 120,
      "min": 0,
      "orientation": "horizontal",
      "style": "IPY_MODEL_334e4116ab3f4028a612073f57857bf1",
      "value": 120
     }
    },
    "6a2654d8055b4467b051f8a8556115e6": {
     "model_module": "@jupyter-widgets/controls",
     "model_module_version": "1.5.0",
     "model_name": "HTMLModel",
     "state": {
      "_dom_classes": [],
      "_model_module": "@jupyter-widgets/controls",
      "_model_module_version": "1.5.0",
      "_model_name": "HTMLModel",
      "_view_count": null,
      "_view_module": "@jupyter-widgets/controls",
      "_view_module_version": "1.5.0",
      "_view_name": "HTMLView",
      "description": "",
      "description_tooltip": null,
      "layout": "IPY_MODEL_cebb63c414f148b49a0ec3034c08f182",
      "placeholder": "​",
      "style": "IPY_MODEL_0f7dac809571463697b57138989d6f33",
      "value": "Validating: 100%"
     }
    },
    "6cf4a652aeb14ddc9000f5f04939df65": {
     "model_module": "@jupyter-widgets/base",
     "model_module_version": "1.2.0",
     "model_name": "LayoutModel",
     "state": {
      "_model_module": "@jupyter-widgets/base",
      "_model_module_version": "1.2.0",
      "_model_name": "LayoutModel",
      "_view_count": null,
      "_view_module": "@jupyter-widgets/base",
      "_view_module_version": "1.2.0",
      "_view_name": "LayoutView",
      "align_content": null,
      "align_items": null,
      "align_self": null,
      "border": null,
      "bottom": null,
      "display": "inline-flex",
      "flex": null,
      "flex_flow": "row wrap",
      "grid_area": null,
      "grid_auto_columns": null,
      "grid_auto_flow": null,
      "grid_auto_rows": null,
      "grid_column": null,
      "grid_gap": null,
      "grid_row": null,
      "grid_template_areas": null,
      "grid_template_columns": null,
      "grid_template_rows": null,
      "height": null,
      "justify_content": null,
      "justify_items": null,
      "left": null,
      "margin": null,
      "max_height": null,
      "max_width": null,
      "min_height": null,
      "min_width": null,
      "object_fit": null,
      "object_position": null,
      "order": null,
      "overflow": null,
      "overflow_x": null,
      "overflow_y": null,
      "padding": null,
      "right": null,
      "top": null,
      "visibility": null,
      "width": "100%"
     }
    },
    "6effcfb7639c43cab8c06da34f22b638": {
     "model_module": "@jupyter-widgets/controls",
     "model_module_version": "1.5.0",
     "model_name": "DescriptionStyleModel",
     "state": {
      "_model_module": "@jupyter-widgets/controls",
      "_model_module_version": "1.5.0",
      "_model_name": "DescriptionStyleModel",
      "_view_count": null,
      "_view_module": "@jupyter-widgets/base",
      "_view_module_version": "1.2.0",
      "_view_name": "StyleView",
      "description_width": ""
     }
    },
    "7575c5e2ea4b48919774a2daa1a6e910": {
     "model_module": "@jupyter-widgets/controls",
     "model_module_version": "1.5.0",
     "model_name": "DescriptionStyleModel",
     "state": {
      "_model_module": "@jupyter-widgets/controls",
      "_model_module_version": "1.5.0",
      "_model_name": "DescriptionStyleModel",
      "_view_count": null,
      "_view_module": "@jupyter-widgets/base",
      "_view_module_version": "1.2.0",
      "_view_name": "StyleView",
      "description_width": ""
     }
    },
    "76321425b2dc4402a87e741f4af15a91": {
     "model_module": "@jupyter-widgets/base",
     "model_module_version": "1.2.0",
     "model_name": "LayoutModel",
     "state": {
      "_model_module": "@jupyter-widgets/base",
      "_model_module_version": "1.2.0",
      "_model_name": "LayoutModel",
      "_view_count": null,
      "_view_module": "@jupyter-widgets/base",
      "_view_module_version": "1.2.0",
      "_view_name": "LayoutView",
      "align_content": null,
      "align_items": null,
      "align_self": null,
      "border": null,
      "bottom": null,
      "display": null,
      "flex": null,
      "flex_flow": null,
      "grid_area": null,
      "grid_auto_columns": null,
      "grid_auto_flow": null,
      "grid_auto_rows": null,
      "grid_column": null,
      "grid_gap": null,
      "grid_row": null,
      "grid_template_areas": null,
      "grid_template_columns": null,
      "grid_template_rows": null,
      "height": null,
      "justify_content": null,
      "justify_items": null,
      "left": null,
      "margin": null,
      "max_height": null,
      "max_width": null,
      "min_height": null,
      "min_width": null,
      "object_fit": null,
      "object_position": null,
      "order": null,
      "overflow": null,
      "overflow_x": null,
      "overflow_y": null,
      "padding": null,
      "right": null,
      "top": null,
      "visibility": null,
      "width": null
     }
    },
    "7b2b0a644b9f48848058208138747eb4": {
     "model_module": "@jupyter-widgets/controls",
     "model_module_version": "1.5.0",
     "model_name": "FloatProgressModel",
     "state": {
      "_dom_classes": [],
      "_model_module": "@jupyter-widgets/controls",
      "_model_module_version": "1.5.0",
      "_model_name": "FloatProgressModel",
      "_view_count": null,
      "_view_module": "@jupyter-widgets/controls",
      "_view_module_version": "1.5.0",
      "_view_name": "ProgressView",
      "bar_style": "success",
      "description": "",
      "description_tooltip": null,
      "layout": "IPY_MODEL_da070090aee24e2d8666baa19d7a9cd0",
      "max": 2671,
      "min": 0,
      "orientation": "horizontal",
      "style": "IPY_MODEL_e7eb8ba8caf848c98e8f3cd8b2ec0140",
      "value": 2671
     }
    },
    "83977bfbace44d34b0c7991089947a3f": {
     "model_module": "@jupyter-widgets/controls",
     "model_module_version": "1.5.0",
     "model_name": "ProgressStyleModel",
     "state": {
      "_model_module": "@jupyter-widgets/controls",
      "_model_module_version": "1.5.0",
      "_model_name": "ProgressStyleModel",
      "_view_count": null,
      "_view_module": "@jupyter-widgets/base",
      "_view_module_version": "1.2.0",
      "_view_name": "StyleView",
      "bar_color": null,
      "description_width": ""
     }
    },
    "8de498c6cd5546ca9735877db4b1f4e6": {
     "model_module": "@jupyter-widgets/controls",
     "model_module_version": "1.5.0",
     "model_name": "HBoxModel",
     "state": {
      "_dom_classes": [],
      "_model_module": "@jupyter-widgets/controls",
      "_model_module_version": "1.5.0",
      "_model_name": "HBoxModel",
      "_view_count": null,
      "_view_module": "@jupyter-widgets/controls",
      "_view_module_version": "1.5.0",
      "_view_name": "HBoxView",
      "box_style": "",
      "children": [
       "IPY_MODEL_6a2654d8055b4467b051f8a8556115e6",
       "IPY_MODEL_689a834b0fef44dbbbd0727ccc4947f3",
       "IPY_MODEL_a4e093bafa6c4420b79a9f8baf55dcf4"
      ],
      "layout": "IPY_MODEL_0eb9cabe442b49709488cb7294b5c600"
     }
    },
    "8f78a2279c724fdaaa0a64e1da823546": {
     "model_module": "@jupyter-widgets/controls",
     "model_module_version": "1.5.0",
     "model_name": "FloatProgressModel",
     "state": {
      "_dom_classes": [],
      "_model_module": "@jupyter-widgets/controls",
      "_model_module_version": "1.5.0",
      "_model_name": "FloatProgressModel",
      "_view_count": null,
      "_view_module": "@jupyter-widgets/controls",
      "_view_module_version": "1.5.0",
      "_view_name": "ProgressView",
      "bar_style": "success",
      "description": "",
      "description_tooltip": null,
      "layout": "IPY_MODEL_2c3d2b2a1ff340e6a9e26f82af215200",
      "max": 31000,
      "min": 0,
      "orientation": "horizontal",
      "style": "IPY_MODEL_5dca4877523147e5b2f8c40887496678",
      "value": 31000
     }
    },
    "95545ea1f6cf45448c17cb8d6ec2f80d": {
     "model_module": "@jupyter-widgets/base",
     "model_module_version": "1.2.0",
     "model_name": "LayoutModel",
     "state": {
      "_model_module": "@jupyter-widgets/base",
      "_model_module_version": "1.2.0",
      "_model_name": "LayoutModel",
      "_view_count": null,
      "_view_module": "@jupyter-widgets/base",
      "_view_module_version": "1.2.0",
      "_view_name": "LayoutView",
      "align_content": null,
      "align_items": null,
      "align_self": null,
      "border": null,
      "bottom": null,
      "display": null,
      "flex": null,
      "flex_flow": null,
      "grid_area": null,
      "grid_auto_columns": null,
      "grid_auto_flow": null,
      "grid_auto_rows": null,
      "grid_column": null,
      "grid_gap": null,
      "grid_row": null,
      "grid_template_areas": null,
      "grid_template_columns": null,
      "grid_template_rows": null,
      "height": null,
      "justify_content": null,
      "justify_items": null,
      "left": null,
      "margin": null,
      "max_height": null,
      "max_width": null,
      "min_height": null,
      "min_width": null,
      "object_fit": null,
      "object_position": null,
      "order": null,
      "overflow": null,
      "overflow_x": null,
      "overflow_y": null,
      "padding": null,
      "right": null,
      "top": null,
      "visibility": null,
      "width": null
     }
    },
    "99d20c33a3aa40aa920e15170abdfefd": {
     "model_module": "@jupyter-widgets/controls",
     "model_module_version": "1.5.0",
     "model_name": "DescriptionStyleModel",
     "state": {
      "_model_module": "@jupyter-widgets/controls",
      "_model_module_version": "1.5.0",
      "_model_name": "DescriptionStyleModel",
      "_view_count": null,
      "_view_module": "@jupyter-widgets/base",
      "_view_module_version": "1.2.0",
      "_view_name": "StyleView",
      "description_width": ""
     }
    },
    "a4e093bafa6c4420b79a9f8baf55dcf4": {
     "model_module": "@jupyter-widgets/controls",
     "model_module_version": "1.5.0",
     "model_name": "HTMLModel",
     "state": {
      "_dom_classes": [],
      "_model_module": "@jupyter-widgets/controls",
      "_model_module_version": "1.5.0",
      "_model_name": "HTMLModel",
      "_view_count": null,
      "_view_module": "@jupyter-widgets/controls",
      "_view_module_version": "1.5.0",
      "_view_name": "HTMLView",
      "description": "",
      "description_tooltip": null,
      "layout": "IPY_MODEL_a6c500911e7341c1a198bd010799a28e",
      "placeholder": "​",
      "style": "IPY_MODEL_7575c5e2ea4b48919774a2daa1a6e910",
      "value": " 120/120 [00:41&lt;00:00,  3.05it/s]"
     }
    },
    "a6c500911e7341c1a198bd010799a28e": {
     "model_module": "@jupyter-widgets/base",
     "model_module_version": "1.2.0",
     "model_name": "LayoutModel",
     "state": {
      "_model_module": "@jupyter-widgets/base",
      "_model_module_version": "1.2.0",
      "_model_name": "LayoutModel",
      "_view_count": null,
      "_view_module": "@jupyter-widgets/base",
      "_view_module_version": "1.2.0",
      "_view_name": "LayoutView",
      "align_content": null,
      "align_items": null,
      "align_self": null,
      "border": null,
      "bottom": null,
      "display": null,
      "flex": null,
      "flex_flow": null,
      "grid_area": null,
      "grid_auto_columns": null,
      "grid_auto_flow": null,
      "grid_auto_rows": null,
      "grid_column": null,
      "grid_gap": null,
      "grid_row": null,
      "grid_template_areas": null,
      "grid_template_columns": null,
      "grid_template_rows": null,
      "height": null,
      "justify_content": null,
      "justify_items": null,
      "left": null,
      "margin": null,
      "max_height": null,
      "max_width": null,
      "min_height": null,
      "min_width": null,
      "object_fit": null,
      "object_position": null,
      "order": null,
      "overflow": null,
      "overflow_x": null,
      "overflow_y": null,
      "padding": null,
      "right": null,
      "top": null,
      "visibility": null,
      "width": null
     }
    },
    "a6ca77a2200642d28efec4fec5ca249e": {
     "model_module": "@jupyter-widgets/base",
     "model_module_version": "1.2.0",
     "model_name": "LayoutModel",
     "state": {
      "_model_module": "@jupyter-widgets/base",
      "_model_module_version": "1.2.0",
      "_model_name": "LayoutModel",
      "_view_count": null,
      "_view_module": "@jupyter-widgets/base",
      "_view_module_version": "1.2.0",
      "_view_name": "LayoutView",
      "align_content": null,
      "align_items": null,
      "align_self": null,
      "border": null,
      "bottom": null,
      "display": "inline-flex",
      "flex": null,
      "flex_flow": "row wrap",
      "grid_area": null,
      "grid_auto_columns": null,
      "grid_auto_flow": null,
      "grid_auto_rows": null,
      "grid_column": null,
      "grid_gap": null,
      "grid_row": null,
      "grid_template_areas": null,
      "grid_template_columns": null,
      "grid_template_rows": null,
      "height": null,
      "justify_content": null,
      "justify_items": null,
      "left": null,
      "margin": null,
      "max_height": null,
      "max_width": null,
      "min_height": null,
      "min_width": null,
      "object_fit": null,
      "object_position": null,
      "order": null,
      "overflow": null,
      "overflow_x": null,
      "overflow_y": null,
      "padding": null,
      "right": null,
      "top": null,
      "visibility": null,
      "width": "100%"
     }
    },
    "a6ed4f2f4f684c44a3c0104703ec63d2": {
     "model_module": "@jupyter-widgets/base",
     "model_module_version": "1.2.0",
     "model_name": "LayoutModel",
     "state": {
      "_model_module": "@jupyter-widgets/base",
      "_model_module_version": "1.2.0",
      "_model_name": "LayoutModel",
      "_view_count": null,
      "_view_module": "@jupyter-widgets/base",
      "_view_module_version": "1.2.0",
      "_view_name": "LayoutView",
      "align_content": null,
      "align_items": null,
      "align_self": null,
      "border": null,
      "bottom": null,
      "display": null,
      "flex": null,
      "flex_flow": null,
      "grid_area": null,
      "grid_auto_columns": null,
      "grid_auto_flow": null,
      "grid_auto_rows": null,
      "grid_column": null,
      "grid_gap": null,
      "grid_row": null,
      "grid_template_areas": null,
      "grid_template_columns": null,
      "grid_template_rows": null,
      "height": null,
      "justify_content": null,
      "justify_items": null,
      "left": null,
      "margin": null,
      "max_height": null,
      "max_width": null,
      "min_height": null,
      "min_width": null,
      "object_fit": null,
      "object_position": null,
      "order": null,
      "overflow": null,
      "overflow_x": null,
      "overflow_y": null,
      "padding": null,
      "right": null,
      "top": null,
      "visibility": null,
      "width": null
     }
    },
    "ae6b5fd9888a492d94703331f3e30810": {
     "model_module": "@jupyter-widgets/controls",
     "model_module_version": "1.5.0",
     "model_name": "HTMLModel",
     "state": {
      "_dom_classes": [],
      "_model_module": "@jupyter-widgets/controls",
      "_model_module_version": "1.5.0",
      "_model_name": "HTMLModel",
      "_view_count": null,
      "_view_module": "@jupyter-widgets/controls",
      "_view_module_version": "1.5.0",
      "_view_name": "HTMLView",
      "description": "",
      "description_tooltip": null,
      "layout": "IPY_MODEL_d54851e149664caeb4f0644cb2bad843",
      "placeholder": "​",
      "style": "IPY_MODEL_4d483380414c4405abc9b4046e053020",
      "value": " 1/1 [00:00&lt;00:00,  3.20it/s]"
     }
    },
    "b0acb8a04deb420797b88be827f97609": {
     "model_module": "@jupyter-widgets/controls",
     "model_module_version": "1.5.0",
     "model_name": "HBoxModel",
     "state": {
      "_dom_classes": [],
      "_model_module": "@jupyter-widgets/controls",
      "_model_module_version": "1.5.0",
      "_model_name": "HBoxModel",
      "_view_count": null,
      "_view_module": "@jupyter-widgets/controls",
      "_view_module_version": "1.5.0",
      "_view_name": "HBoxView",
      "box_style": "",
      "children": [
       "IPY_MODEL_47100f42ad7844f1b97daab79a82d00a",
       "IPY_MODEL_46ec48c6951e49e6b63d6262ed502ae2",
       "IPY_MODEL_e5fb2f02259a4a42a92b988d1e275545"
      ],
      "layout": "IPY_MODEL_6cf4a652aeb14ddc9000f5f04939df65"
     }
    },
    "b1e5cb11ac114a6ea49ecd743f93be8e": {
     "model_module": "@jupyter-widgets/controls",
     "model_module_version": "1.5.0",
     "model_name": "HTMLModel",
     "state": {
      "_dom_classes": [],
      "_model_module": "@jupyter-widgets/controls",
      "_model_module_version": "1.5.0",
      "_model_name": "HTMLModel",
      "_view_count": null,
      "_view_module": "@jupyter-widgets/controls",
      "_view_module_version": "1.5.0",
      "_view_name": "HTMLView",
      "description": "",
      "description_tooltip": null,
      "layout": "IPY_MODEL_6352f06c89ce4aea93ba96d232f73c57",
      "placeholder": "​",
      "style": "IPY_MODEL_20fd68ca05cb40d4a92e66ef085bfbfb",
      "value": " 31000/31000 [56:00&lt;00:00, 10.89it/s]"
     }
    },
    "b28dcf55c46f488ab445f00d8e102877": {
     "model_module": "@jupyter-widgets/controls",
     "model_module_version": "1.5.0",
     "model_name": "DescriptionStyleModel",
     "state": {
      "_model_module": "@jupyter-widgets/controls",
      "_model_module_version": "1.5.0",
      "_model_name": "DescriptionStyleModel",
      "_view_count": null,
      "_view_module": "@jupyter-widgets/base",
      "_view_module_version": "1.2.0",
      "_view_name": "StyleView",
      "description_width": ""
     }
    },
    "ba9917fa5e1e4495bd9d84e533c1d103": {
     "model_module": "@jupyter-widgets/controls",
     "model_module_version": "1.5.0",
     "model_name": "HTMLModel",
     "state": {
      "_dom_classes": [],
      "_model_module": "@jupyter-widgets/controls",
      "_model_module_version": "1.5.0",
      "_model_name": "HTMLModel",
      "_view_count": null,
      "_view_module": "@jupyter-widgets/controls",
      "_view_module_version": "1.5.0",
      "_view_name": "HTMLView",
      "description": "",
      "description_tooltip": null,
      "layout": "IPY_MODEL_95545ea1f6cf45448c17cb8d6ec2f80d",
      "placeholder": "​",
      "style": "IPY_MODEL_b28dcf55c46f488ab445f00d8e102877",
      "value": "Epoch 0: 100%"
     }
    },
    "cebb63c414f148b49a0ec3034c08f182": {
     "model_module": "@jupyter-widgets/base",
     "model_module_version": "1.2.0",
     "model_name": "LayoutModel",
     "state": {
      "_model_module": "@jupyter-widgets/base",
      "_model_module_version": "1.2.0",
      "_model_name": "LayoutModel",
      "_view_count": null,
      "_view_module": "@jupyter-widgets/base",
      "_view_module_version": "1.2.0",
      "_view_name": "LayoutView",
      "align_content": null,
      "align_items": null,
      "align_self": null,
      "border": null,
      "bottom": null,
      "display": null,
      "flex": null,
      "flex_flow": null,
      "grid_area": null,
      "grid_auto_columns": null,
      "grid_auto_flow": null,
      "grid_auto_rows": null,
      "grid_column": null,
      "grid_gap": null,
      "grid_row": null,
      "grid_template_areas": null,
      "grid_template_columns": null,
      "grid_template_rows": null,
      "height": null,
      "justify_content": null,
      "justify_items": null,
      "left": null,
      "margin": null,
      "max_height": null,
      "max_width": null,
      "min_height": null,
      "min_width": null,
      "object_fit": null,
      "object_position": null,
      "order": null,
      "overflow": null,
      "overflow_x": null,
      "overflow_y": null,
      "padding": null,
      "right": null,
      "top": null,
      "visibility": null,
      "width": null
     }
    },
    "d54851e149664caeb4f0644cb2bad843": {
     "model_module": "@jupyter-widgets/base",
     "model_module_version": "1.2.0",
     "model_name": "LayoutModel",
     "state": {
      "_model_module": "@jupyter-widgets/base",
      "_model_module_version": "1.2.0",
      "_model_name": "LayoutModel",
      "_view_count": null,
      "_view_module": "@jupyter-widgets/base",
      "_view_module_version": "1.2.0",
      "_view_name": "LayoutView",
      "align_content": null,
      "align_items": null,
      "align_self": null,
      "border": null,
      "bottom": null,
      "display": null,
      "flex": null,
      "flex_flow": null,
      "grid_area": null,
      "grid_auto_columns": null,
      "grid_auto_flow": null,
      "grid_auto_rows": null,
      "grid_column": null,
      "grid_gap": null,
      "grid_row": null,
      "grid_template_areas": null,
      "grid_template_columns": null,
      "grid_template_rows": null,
      "height": null,
      "justify_content": null,
      "justify_items": null,
      "left": null,
      "margin": null,
      "max_height": null,
      "max_width": null,
      "min_height": null,
      "min_width": null,
      "object_fit": null,
      "object_position": null,
      "order": null,
      "overflow": null,
      "overflow_x": null,
      "overflow_y": null,
      "padding": null,
      "right": null,
      "top": null,
      "visibility": null,
      "width": null
     }
    },
    "d6bb06fa5afd4a0b950853a7a1db1dcc": {
     "model_module": "@jupyter-widgets/controls",
     "model_module_version": "1.5.0",
     "model_name": "FloatProgressModel",
     "state": {
      "_dom_classes": [],
      "_model_module": "@jupyter-widgets/controls",
      "_model_module_version": "1.5.0",
      "_model_name": "FloatProgressModel",
      "_view_count": null,
      "_view_module": "@jupyter-widgets/controls",
      "_view_module_version": "1.5.0",
      "_view_name": "ProgressView",
      "bar_style": "success",
      "description": "",
      "description_tooltip": null,
      "layout": "IPY_MODEL_76321425b2dc4402a87e741f4af15a91",
      "max": 1,
      "min": 0,
      "orientation": "horizontal",
      "style": "IPY_MODEL_83977bfbace44d34b0c7991089947a3f",
      "value": 1
     }
    },
    "da070090aee24e2d8666baa19d7a9cd0": {
     "model_module": "@jupyter-widgets/base",
     "model_module_version": "1.2.0",
     "model_name": "LayoutModel",
     "state": {
      "_model_module": "@jupyter-widgets/base",
      "_model_module_version": "1.2.0",
      "_model_name": "LayoutModel",
      "_view_count": null,
      "_view_module": "@jupyter-widgets/base",
      "_view_module_version": "1.2.0",
      "_view_name": "LayoutView",
      "align_content": null,
      "align_items": null,
      "align_self": null,
      "border": null,
      "bottom": null,
      "display": null,
      "flex": "2",
      "flex_flow": null,
      "grid_area": null,
      "grid_auto_columns": null,
      "grid_auto_flow": null,
      "grid_auto_rows": null,
      "grid_column": null,
      "grid_gap": null,
      "grid_row": null,
      "grid_template_areas": null,
      "grid_template_columns": null,
      "grid_template_rows": null,
      "height": null,
      "justify_content": null,
      "justify_items": null,
      "left": null,
      "margin": null,
      "max_height": null,
      "max_width": null,
      "min_height": null,
      "min_width": null,
      "object_fit": null,
      "object_position": null,
      "order": null,
      "overflow": null,
      "overflow_x": null,
      "overflow_y": null,
      "padding": null,
      "right": null,
      "top": null,
      "visibility": null,
      "width": null
     }
    },
    "df90cb852b794f1c8695c4a44c89bac4": {
     "model_module": "@jupyter-widgets/base",
     "model_module_version": "1.2.0",
     "model_name": "LayoutModel",
     "state": {
      "_model_module": "@jupyter-widgets/base",
      "_model_module_version": "1.2.0",
      "_model_name": "LayoutModel",
      "_view_count": null,
      "_view_module": "@jupyter-widgets/base",
      "_view_module_version": "1.2.0",
      "_view_name": "LayoutView",
      "align_content": null,
      "align_items": null,
      "align_self": null,
      "border": null,
      "bottom": null,
      "display": null,
      "flex": "2",
      "flex_flow": null,
      "grid_area": null,
      "grid_auto_columns": null,
      "grid_auto_flow": null,
      "grid_auto_rows": null,
      "grid_column": null,
      "grid_gap": null,
      "grid_row": null,
      "grid_template_areas": null,
      "grid_template_columns": null,
      "grid_template_rows": null,
      "height": null,
      "justify_content": null,
      "justify_items": null,
      "left": null,
      "margin": null,
      "max_height": null,
      "max_width": null,
      "min_height": null,
      "min_width": null,
      "object_fit": null,
      "object_position": null,
      "order": null,
      "overflow": null,
      "overflow_x": null,
      "overflow_y": null,
      "padding": null,
      "right": null,
      "top": null,
      "visibility": null,
      "width": null
     }
    },
    "e40fa4d96b5b496da949c0dca15c87d0": {
     "model_module": "@jupyter-widgets/base",
     "model_module_version": "1.2.0",
     "model_name": "LayoutModel",
     "state": {
      "_model_module": "@jupyter-widgets/base",
      "_model_module_version": "1.2.0",
      "_model_name": "LayoutModel",
      "_view_count": null,
      "_view_module": "@jupyter-widgets/base",
      "_view_module_version": "1.2.0",
      "_view_name": "LayoutView",
      "align_content": null,
      "align_items": null,
      "align_self": null,
      "border": null,
      "bottom": null,
      "display": null,
      "flex": null,
      "flex_flow": null,
      "grid_area": null,
      "grid_auto_columns": null,
      "grid_auto_flow": null,
      "grid_auto_rows": null,
      "grid_column": null,
      "grid_gap": null,
      "grid_row": null,
      "grid_template_areas": null,
      "grid_template_columns": null,
      "grid_template_rows": null,
      "height": null,
      "justify_content": null,
      "justify_items": null,
      "left": null,
      "margin": null,
      "max_height": null,
      "max_width": null,
      "min_height": null,
      "min_width": null,
      "object_fit": null,
      "object_position": null,
      "order": null,
      "overflow": null,
      "overflow_x": null,
      "overflow_y": null,
      "padding": null,
      "right": null,
      "top": null,
      "visibility": null,
      "width": null
     }
    },
    "e47d21d89cb343ee8c197713c495a434": {
     "model_module": "@jupyter-widgets/base",
     "model_module_version": "1.2.0",
     "model_name": "LayoutModel",
     "state": {
      "_model_module": "@jupyter-widgets/base",
      "_model_module_version": "1.2.0",
      "_model_name": "LayoutModel",
      "_view_count": null,
      "_view_module": "@jupyter-widgets/base",
      "_view_module_version": "1.2.0",
      "_view_name": "LayoutView",
      "align_content": null,
      "align_items": null,
      "align_self": null,
      "border": null,
      "bottom": null,
      "display": null,
      "flex": "2",
      "flex_flow": null,
      "grid_area": null,
      "grid_auto_columns": null,
      "grid_auto_flow": null,
      "grid_auto_rows": null,
      "grid_column": null,
      "grid_gap": null,
      "grid_row": null,
      "grid_template_areas": null,
      "grid_template_columns": null,
      "grid_template_rows": null,
      "height": null,
      "justify_content": null,
      "justify_items": null,
      "left": null,
      "margin": null,
      "max_height": null,
      "max_width": null,
      "min_height": null,
      "min_width": null,
      "object_fit": null,
      "object_position": null,
      "order": null,
      "overflow": null,
      "overflow_x": null,
      "overflow_y": null,
      "padding": null,
      "right": null,
      "top": null,
      "visibility": null,
      "width": null
     }
    },
    "e5fb2f02259a4a42a92b988d1e275545": {
     "model_module": "@jupyter-widgets/controls",
     "model_module_version": "1.5.0",
     "model_name": "HTMLModel",
     "state": {
      "_dom_classes": [],
      "_model_module": "@jupyter-widgets/controls",
      "_model_module_version": "1.5.0",
      "_model_name": "HTMLModel",
      "_view_count": null,
      "_view_module": "@jupyter-widgets/controls",
      "_view_module_version": "1.5.0",
      "_view_name": "HTMLView",
      "description": "",
      "description_tooltip": null,
      "layout": "IPY_MODEL_e40fa4d96b5b496da949c0dca15c87d0",
      "placeholder": "​",
      "style": "IPY_MODEL_99d20c33a3aa40aa920e15170abdfefd",
      "value": " 0/2 [00:03&lt;?, ?it/s]"
     }
    },
    "e7eb8ba8caf848c98e8f3cd8b2ec0140": {
     "model_module": "@jupyter-widgets/controls",
     "model_module_version": "1.5.0",
     "model_name": "ProgressStyleModel",
     "state": {
      "_model_module": "@jupyter-widgets/controls",
      "_model_module_version": "1.5.0",
      "_model_name": "ProgressStyleModel",
      "_view_count": null,
      "_view_module": "@jupyter-widgets/base",
      "_view_module_version": "1.2.0",
      "_view_name": "StyleView",
      "bar_color": null,
      "description_width": ""
     }
    },
    "f97f0617f5dd4b2bb24a1c5a4b318045": {
     "model_module": "@jupyter-widgets/controls",
     "model_module_version": "1.5.0",
     "model_name": "DescriptionStyleModel",
     "state": {
      "_model_module": "@jupyter-widgets/controls",
      "_model_module_version": "1.5.0",
      "_model_name": "DescriptionStyleModel",
      "_view_count": null,
      "_view_module": "@jupyter-widgets/base",
      "_view_module_version": "1.2.0",
      "_view_name": "StyleView",
      "description_width": ""
     }
    },
    "ff8a3868b0a846dda48a8f5078bd3201": {
     "model_module": "@jupyter-widgets/base",
     "model_module_version": "1.2.0",
     "model_name": "LayoutModel",
     "state": {
      "_model_module": "@jupyter-widgets/base",
      "_model_module_version": "1.2.0",
      "_model_name": "LayoutModel",
      "_view_count": null,
      "_view_module": "@jupyter-widgets/base",
      "_view_module_version": "1.2.0",
      "_view_name": "LayoutView",
      "align_content": null,
      "align_items": null,
      "align_self": null,
      "border": null,
      "bottom": null,
      "display": null,
      "flex": null,
      "flex_flow": null,
      "grid_area": null,
      "grid_auto_columns": null,
      "grid_auto_flow": null,
      "grid_auto_rows": null,
      "grid_column": null,
      "grid_gap": null,
      "grid_row": null,
      "grid_template_areas": null,
      "grid_template_columns": null,
      "grid_template_rows": null,
      "height": null,
      "justify_content": null,
      "justify_items": null,
      "left": null,
      "margin": null,
      "max_height": null,
      "max_width": null,
      "min_height": null,
      "min_width": null,
      "object_fit": null,
      "object_position": null,
      "order": null,
      "overflow": null,
      "overflow_x": null,
      "overflow_y": null,
      "padding": null,
      "right": null,
      "top": null,
      "visibility": null,
      "width": null
     }
    }
   }
  }
 },
 "nbformat": 4,
 "nbformat_minor": 1
}
